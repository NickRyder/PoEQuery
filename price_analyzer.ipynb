{
 "metadata": {
  "language_info": {
   "codemirror_mode": {
    "name": "ipython",
    "version": 3
   },
   "file_extension": ".py",
   "mimetype": "text/x-python",
   "name": "python",
   "nbconvert_exporter": "python",
   "pygments_lexer": "ipython3",
   "version": "3.7.8"
  },
  "orig_nbformat": 2,
  "kernelspec": {
   "name": "python3",
   "display_name": "Python 3",
   "language": "python"
  }
 },
 "nbformat": 4,
 "nbformat_minor": 2,
 "cells": [
  {
   "cell_type": "code",
   "execution_count": 5,
   "metadata": {
    "tags": []
   },
   "outputs": [
    {
     "output_type": "error",
     "ename": "FileNotFoundError",
     "evalue": "[Errno 2] No such file or directory: 'data/unique_corrupts/data/forbidden_shako.csv'",
     "traceback": [
      "\u001b[1;31m---------------------------------------------------------------------------\u001b[0m",
      "\u001b[1;31mFileNotFoundError\u001b[0m                         Traceback (most recent call last)",
      "\u001b[1;32m<ipython-input-5-a9e889d18af2>\u001b[0m in \u001b[0;36m<module>\u001b[1;34m\u001b[0m\n\u001b[0;32m     27\u001b[0m \u001b[0mpaths\u001b[0m \u001b[1;33m=\u001b[0m \u001b[1;33m[\u001b[0m\u001b[1;34m\"data/forbidden_shako.csv\"\u001b[0m\u001b[1;33m]\u001b[0m\u001b[1;33m\u001b[0m\u001b[1;33m\u001b[0m\u001b[0m\n\u001b[0;32m     28\u001b[0m \u001b[1;32mfor\u001b[0m \u001b[0mpath\u001b[0m \u001b[1;32min\u001b[0m \u001b[0mpaths\u001b[0m\u001b[1;33m:\u001b[0m\u001b[1;33m\u001b[0m\u001b[1;33m\u001b[0m\u001b[0m\n\u001b[1;32m---> 29\u001b[1;33m   \u001b[1;32mfor\u001b[0m \u001b[0mitem\u001b[0m \u001b[1;32min\u001b[0m \u001b[0mload_jsons\u001b[0m\u001b[1;33m(\u001b[0m\u001b[1;34mf'{base_dir}{path}'\u001b[0m\u001b[1;33m)\u001b[0m\u001b[1;33m:\u001b[0m\u001b[1;33m\u001b[0m\u001b[1;33m\u001b[0m\u001b[0m\n\u001b[0m\u001b[0;32m     30\u001b[0m       \u001b[0mitem\u001b[0m \u001b[1;33m=\u001b[0m \u001b[0mOfficialApiResult\u001b[0m\u001b[1;33m(\u001b[0m\u001b[0mitem\u001b[0m\u001b[1;33m)\u001b[0m\u001b[1;33m\u001b[0m\u001b[1;33m\u001b[0m\u001b[0m\n\u001b[0;32m     31\u001b[0m       \u001b[0mchaos_value\u001b[0m \u001b[1;33m=\u001b[0m \u001b[0mget_chaos_value\u001b[0m\u001b[1;33m(\u001b[0m\u001b[0mitem\u001b[0m\u001b[1;33m)\u001b[0m\u001b[1;33m\u001b[0m\u001b[1;33m\u001b[0m\u001b[0m\n",
      "\u001b[1;32m<ipython-input-5-a9e889d18af2>\u001b[0m in \u001b[0;36mload_jsons\u001b[1;34m(filepath)\u001b[0m\n\u001b[0;32m      6\u001b[0m \u001b[1;33m\u001b[0m\u001b[0m\n\u001b[0;32m      7\u001b[0m \u001b[1;32mdef\u001b[0m \u001b[0mload_jsons\u001b[0m\u001b[1;33m(\u001b[0m\u001b[0mfilepath\u001b[0m\u001b[1;33m)\u001b[0m\u001b[1;33m:\u001b[0m\u001b[1;33m\u001b[0m\u001b[1;33m\u001b[0m\u001b[0m\n\u001b[1;32m----> 8\u001b[1;33m   \u001b[1;32mwith\u001b[0m \u001b[0mopen\u001b[0m\u001b[1;33m(\u001b[0m\u001b[0mfilepath\u001b[0m\u001b[1;33m,\u001b[0m \u001b[1;34m'r'\u001b[0m\u001b[1;33m)\u001b[0m \u001b[1;32mas\u001b[0m \u001b[0mf\u001b[0m\u001b[1;33m:\u001b[0m\u001b[1;33m\u001b[0m\u001b[1;33m\u001b[0m\u001b[0m\n\u001b[0m\u001b[0;32m      9\u001b[0m     \u001b[1;32mreturn\u001b[0m \u001b[1;33m[\u001b[0m\u001b[0mjson\u001b[0m\u001b[1;33m.\u001b[0m\u001b[0mloads\u001b[0m\u001b[1;33m(\u001b[0m\u001b[0mline\u001b[0m\u001b[1;33m)\u001b[0m \u001b[1;32mfor\u001b[0m \u001b[0mline\u001b[0m \u001b[1;32min\u001b[0m \u001b[0mf\u001b[0m\u001b[1;33m.\u001b[0m\u001b[0mreadlines\u001b[0m\u001b[1;33m(\u001b[0m\u001b[1;33m)\u001b[0m\u001b[1;33m]\u001b[0m\u001b[1;33m\u001b[0m\u001b[1;33m\u001b[0m\u001b[0m\n\u001b[0;32m     10\u001b[0m \u001b[1;33m\u001b[0m\u001b[0m\n",
      "\u001b[1;31mFileNotFoundError\u001b[0m: [Errno 2] No such file or directory: 'data/unique_corrupts/data/forbidden_shako.csv'"
     ]
    }
   ],
   "source": [
    "import os\n",
    "from PoEQuery.official_api_result import OfficialApiResult\n",
    "from dataclasses import dataclass\n",
    "import json\n",
    "base_dir = \"data/unique_corrupts/\"\n",
    "\n",
    "def load_jsons(filepath):\n",
    "  with open(filepath, 'r') as f:\n",
    "    return [json.loads(line) for line in f.readlines()]\n",
    "\n",
    "def get_chaos_value(item: OfficialApiResult):\n",
    "  if item.price is not None:\n",
    "    if item.price.currency == \"chaos\":\n",
    "      return item.price.amount\n",
    "    elif item.price.currency == \"exalted\":\n",
    "      return item.price.amount * 100\n",
    "    elif item.price.currency == \"mirror\":\n",
    "      return item.price.amount * 100 * 350\n",
    "  return None\n",
    "\n",
    "\n",
    "\n",
    "from collections import defaultdict\n",
    "item_to_corrupt_to_price = defaultdict(lambda : defaultdict(list))\n",
    "\n",
    "paths = os.listdir(base_dir)\n",
    "paths = [\"data/forbidden_shako.csv\"]\n",
    "for path in paths:\n",
    "  for item in load_jsons(f'{base_dir}{path}'):\n",
    "      item = OfficialApiResult(item)\n",
    "      chaos_value = get_chaos_value(item)\n",
    "      if chaos_value is not None and chaos_value != 0:\n",
    "        item_to_corrupt_to_price[path][str(item.implicits[0])].append(chaos_value)\n",
    "  \n",
    "\n",
    "      # print(item.price, item.implicits[0])\n"
   ]
  },
  {
   "cell_type": "code",
   "execution_count": 7,
   "metadata": {
    "tags": [
     "outputPrepend"
    ]
   },
   "outputs": [
    {
     "output_type": "stream",
     "name": "stdout",
     "text": [
      "5, 20\n\"worldcarver\",\"Curse Enemies with Enfeeble on Hit, with (40-48)% increased Effect\",5, 5, 5, 8, 10, 10, 10, 14, 15, 15\n\"worldcarver\",\"2 to Level of Socketed Projectile Gems\",4, 5, 5, 5, 10, 10, 10, 15, 15, 20\n\"worldcarver\",\"1 to Level of Socketed Gems\",3, 4, 5, 5, 7, 10, 10, 10, 30, 50\n\"worldcarver\",\"(0.5-0.8)% to Spell Critical Strike Chance\",1, 4, 4, 5, 5, 9, 9, 10, 10, 60\n\"worldcarver\",\"Curse Enemies with Elemental Weakness on Hit, with (40-48)% increased Effect\",20, 20, 23, 40, 50, 50, 60, 70, 70, 80\n\"worldcarver\",\"Curse Enemies with Temporal Chains on Hit, with (40-48)% increased Effect\",15, 20, 20, 30, 40, 40, 40, 40, 50, 60\n\"worldcarver\",\"Curse Enemies with Vulnerability on Hit, with (40-48)% increased Effect\",100, 100, 100, 200, 300\n\"worldcarver\",\"(8-10)% increased Attack Speed\",1, 5, 5, 5, 10, 15, 15, 15, 20, 30\n\"worldcarver\",\"1 to Maximum Frenzy Charges\",8, 20, 60, 90, 100, 100, 100, 100, 100, 100\n\"worldcarver\",\"2 to Level of Socketed Curse Gems\",4, 5, 5, 7, 10, 10, 15, 20, 30, 50\n\"worldcarver\",\"(4-6)% increased maximum Life\",10, 10, 10, 15, 20, 20, 20, 20, 30, 30\n\"worldcarver\",\"2 to Level of Socketed Aura Gems\",2, 5, 5, 10, 10, 10, 12, 18, 20, 20\n\"worldcarver\",\"2 to Level of Socketed Trap or Mine Gems\",2, 12, 15, 15, 40, 58\n\"worldcarver\",\"(8-10)% increased Cast Speed\",3, 5, 7, 10, 10, 15, 15, 55\n\"wraithlord\",\"2 to Level of Socketed AoE Gems\",1, 1, 2, 2, 2, 3, 3, 4, 5, 5\n\"wraithlord\",\"1 to Maximum Power Charges\",1, 1, 2, 2, 2, 2, 3, 3, 3, 4\n\"wraithlord\",\"0.5% of Cold Damage Leeched as Life\",2, 3, 4, 5, 10, 20, 100, 100\n\"wraithlord\",\"2 to Level of Socketed Cold Gems\",1, 4, 5, 5, 5, 5, 5, 5, 9, 10\n\"wraithlord\",\"(25-30)% increased Effect of Cold Ailments\",1, 1, 1, 5, 5, 7, 10, 10, 10, 10\n\"wraithlord\",\"2 to Level of Socketed Curse Gems\",1, 1, 1, 2, 2, 3, 3, 5, 5, 5\n\"wraithlord\",\"2 to Level of Socketed Duration Gems\",1, 2.5, 4, 4, 5, 5, 5, 5, 5, 5\n\"wraithlord\",\"2 to Level of Socketed Aura Gems\",1, 1, 1, 1, 3, 5, 5, 5, 5, 8\n\"wraithlord\",\"2 to Level of Socketed Warcry Gems\",1, 1, 1, 2, 2, 5, 5, 5, 5, 6\n\"wraithlord\",\"Socketed Skill Gems get a 90% Mana Multiplier\",1, 1, 3, 3, 5, 5, 5, 7, 10, 10\n\"wraithlord\",\"2 to Level of Socketed Fire Gems\",1, 2, 4, 5, 5, 5, 5, 7, 7, 8\n\"wraithlord\",\"0.5% of Lightning Damage Leeched as Life\",1, 3, 3, 3, 10, 25, 100, 200\n\"wraithlord\",\"2 to Level of Socketed Trap or Mine Gems\",1, 1, 1, 3, 3, 3, 3, 4, 5, 10\n\"wraithlord\",\"(25-30)% increased Effect of Shock\",1, 1, 1, 1, 4, 5, 8, 9, 15, 15\n\"wraithlord\",\"Cannot be Blinded\",1, 1, 1, 2, 2, 4, 5, 10, 25, 30\n\"wraithlord\",\"(4-6)% increased maximum Energy Shield\",1, 1, 1, 2, 2, 5, 10, 10, 10, 10\n\"wraithlord\",\"2 to Level of Socketed Lightning Gems\",1, 1, 2, 4, 5, 5, 5, 5, 5, 10\n\"wraithlord\",\"2 to Level of Socketed Projectile Gems\",1, 1, 2, 2, 5, 5, 5, 5, 8, 8\n\"wraithlord\",\"Regenerate (1.6-2)% of Life per second\",1, 2, 3, 4, 10, 10, 40\n\"wraithlord\",\"(4-6)% increased maximum Life\",3, 3, 4, 5, 5, 5, 5, 5, 5, 6\n\"wraithlord\",\"0.5% of Fire Damage Leeched as Life\",1, 1, 4, 5, 10, 20, 25, 25, 28\n\"wraithlord\",\"(30-40)% increased Burning Damage\",1, 1, 1, 1, 10, 25, 30, 40, 40, 75\n\"wreath of phrecia\",\"2 to Level of Socketed Projectile Gems\",60\n\"wreath of phrecia\",\"0.5% of Fire Damage Leeched as Life\",5, 20, 30\n\"wreath of phrecia\",\"1 to Maximum Power Charges\",100\n\"wreath of phrecia\",\"Socketed Skill Gems get a 90% Mana Multiplier\",30\n\"wreath of phrecia\",\"(30-40)% increased Burning Damage\",60\n\"wreath of phrecia\",\"2 to Level of Socketed Fire Gems\",70\n\"wurm's molt\",\"(25-40) to maximum Life\",1, 1, 1, 1, 1, 1, 1, 1, 1, 1\n\"wurm's molt\",\"(12-15)% increased Skill Effect Duration\",1, 1, 1, 1, 1, 2, 3, 4, 5, 5\n\"wurm's molt\",\"(4-6)% increased Strength', '(4-6)% increased Dexterity\",1, 1, 1, 2, 2, 3, 3, 3, 4, 4\n\"wurm's molt\",\"Wrath has (15-20)% increased Aura Effect\",1, 1, 2, 3, 4, 5, 5, 5, 5, 5\n\"wurm's molt\",\"(20-25)% to Critical Strike Multiplier during any Flask Effect\",1, 1, 1, 1, 1, 2, 2, 2, 3, 3\n\"wurm's molt\",\"(20-30)% increased Rarity of Items found\",1, 4, 4, 6, 7, 7, 9, 10, 10, 10\n\"wurm's molt\",\"(8-12)% increased Attack Speed during any Flask Effect\",1, 1, 1, 1, 1, 2, 4, 5, 5, 7\n\"wurm's molt\",\"(4-6)% increased Strength', '(4-6)% increased Intelligence\",1, 2, 3, 3, 3, 4, 4, 4, 4, 5\n\"wurm's molt\",\"Zealotry has (15-20)% increased Aura Effect\",1, 1, 1, 1, 1, 1, 2, 2, 3, 3\n\"wurm's molt\",\"Discipline has (15-20)% increased Aura Effect\",1, 1, 1, 1, 1, 1, 1, 1, 1, 2\n\"wurm's molt\",\"(8-12)% increased Cast Speed during any Flask Effect\",1, 1, 1, 1, 3, 3, 3, 4, 5, 5\n\"wurm's molt\",\"(8-12)% increased Movement Speed during any Flask Effect\",1, 1, 3, 3, 4, 5, 5, 5, 5, 6\n\"wurm's molt\",\"(35-40)% increased Critical Strike Chance during any Flask Effect\",1, 1, 1, 1, 2, 3, 3, 4, 5, 5\n\"wurm's molt\",\"Grace has (15-20)% increased Aura Effect\",1, 1, 2, 3, 3, 3, 4, 5, 5, 5\n\"wurm's molt\",\"(8-10)% increased Area of Effect\",1, 1, 1, 1, 2, 3, 3, 3, 3, 3\n\"wurm's molt\",\"Hatred has (15-20)% increased Aura Effect\",1, 2, 2, 2, 2, 3, 3, 3, 3, 3\n\"wurm's molt\",\"Malevolence has (15-20)% increased Aura Effect\",1, 1, 1, 1, 1, 2, 2, 3, 3, 3\n\"wurm's molt\",\"Pride has (15-20)% increased Aura Effect\",1, 1, 1, 1, 1, 1, 1, 2, 2, 2\n\"wurm's molt\",\"Determination has (15-20)% increased Aura Effect\",1, 1, 2, 2, 2, 3, 3, 3, 4, 5\n\"wurm's molt\",\"(4-6)% increased Dexterity', '(4-6)% increased Intelligence\",1, 1, 1, 1, 1, 1, 1, 1, 2, 2\n\"wurm's molt\",\"(8-10)% increased maximum Energy Shield\",1, 1, 1, 1, 2, 3, 3, 4, 5, 5\n\"wurm's molt\",\"(14-16)% to all Elemental Resistances\",1, 1, 2, 4, 5, 5, 5, 10, 10, 10\n\"wurm's molt\",\"Anger has (15-20)% increased Aura Effect\",1, 1, 2, 2, 3, 4, 4, 5, 5, 5\n\"wurm's molt\",\"(6-8)% increased maximum Life\",1, 1, 1, 1, 1, 1, 1, 2, 2, 4\n\"wurm's molt\",\"(3-5)% increased Quantity of Items found\",5, 5\n\"wyrmsign\",\"2 to Level of Socketed Projectile Gems\",2, 2, 3, 4, 5, 5, 5, 5, 7, 8\n\"wyrmsign\",\"(4-6)% increased maximum Life\",1, 1, 5, 5, 5, 5, 5, 8, 8, 10\n\"wyrmsign\",\"2 to Level of Socketed Aura Gems\",1, 2, 3, 3, 4, 5, 5, 5, 5, 5\n\"wyrmsign\",\"(4-6)% increased maximum Energy Shield\",2, 2, 3, 5, 5, 5, 5, 5, 6, 10\n\"wyrmsign\",\"Curse Enemies with Temporal Chains on Hit, with (40-48)% increased Effect\",2, 3, 3, 5, 5, 5, 5, 5, 5, 9\n\"wyrmsign\",\"2 to Level of Socketed AoE Gems\",1, 2, 2, 4, 4, 4, 4, 5, 5, 5\n\"wyrmsign\",\"2 to Level of Socketed Curse Gems\",1, 1, 1, 3, 3, 3, 3, 4, 4, 5\n\"wyrmsign\",\"Attacks have (0.5-0.8)% to Critical Strike Chance\",1, 1, 3, 4, 4, 4, 4, 5, 5, 5\n\"wyrmsign\",\"1 to Maximum Frenzy Charges\",3, 3, 5, 5, 5, 5, 5, 10, 10, 10\n\"wyrmsign\",\"Curse Enemies with Despair on Hit, with (40-48)% increased Effect\",2, 3, 4, 5, 5, 8, 8, 10, 10, 10\n\"wyrmsign\",\"1 to Level of Socketed Gems\",3, 4, 5, 5, 5, 5, 10, 10, 10, 10\n\"wyrmsign\",\"(0.5-0.8)% to Spell Critical Strike Chance\",1, 3, 5, 5, 5, 5, 5, 5, 8, 8\n\"wyrmsign\",\"Curse Enemies with Vulnerability on Hit, with (40-48)% increased Effect\",30, 40, 40, 50, 55, 55, 55, 55, 60, 60\n\"wyrmsign\",\"Curse Enemies with Elemental Weakness on Hit, with (40-48)% increased Effect\",8, 10, 10, 10, 10, 10, 10, 10, 14, 15\n\"wyrmsign\",\"(8-10)% increased Cast Speed\",1, 3, 4, 5, 5, 5, 5, 5, 8, 10\n\"wyrmsign\",\"2 to Level of Socketed Warcry Gems\",2, 2, 3, 3, 5, 5, 5, 5, 5, 5\n\"wyrmsign\",\"Curse Enemies with Enfeeble on Hit, with (40-48)% increased Effect\",1, 5, 5, 5, 5, 5, 5, 5, 5, 5\n\"wyrmsign\",\"2 to Level of Socketed Duration Gems\",2, 4, 5, 6, 7, 8, 10, 10, 10, 13\n\"wyrmsign\",\"2 to Level of Socketed Trap or Mine Gems\",1, 1, 2, 2, 2, 3, 4, 5, 8, 10\n\"wyrmsign\",\"(8-10)% increased Attack Speed\",2, 4, 4, 5, 5, 5, 5, 6, 7, 8\n\"xirgil's crank\",\"(25-30)% increased Area of Effect\",10\n\"xoph's blood\",\"(20-30) to Strength\",19, 20, 20, 20, 20, 20, 20, 25, 25, 25\n\"xoph's blood\",\"(4-5)% Chance to Block Spell Damage\",25, 50, 50, 60, 100, 100, 200, 400, 500\n\"xoph's blood\",\"Anger has (15-20)% increased Aura Effect\",40, 80, 80, 80, 100, 100, 100, 100, 100, 150.0\n\"xoph's blood\",\"Grants Level 23 Malevolence Skill\",300, 300, 400, 400, 500, 600, 2100\n\"xoph's blood\",\"Wrath has (15-20)% increased Aura Effect\",15, 24, 30, 30, 80, 100\n\"xoph's blood\",\"(8-10)% increased Attack Speed\",25, 30, 40, 40, 40, 56, 60, 70, 70, 70\n\"xoph's blood\",\"0.5% of Cold Damage Leeched as Life\",30, 35\n\"xoph's blood\",\"Grants Level 23 Purity of Ice Skill\",15, 20, 25, 50, 60, 100\n\"xoph's blood\",\"Pride has (15-20)% increased Aura Effect\",38, 55, 60, 60, 400\n\"xoph's blood\",\"Hatred has (15-20)% increased Aura Effect\",20, 20, 25, 25, 30, 100\n\"xoph's blood\",\"0.5% of Fire Damage Leeched as Life\",37, 40, 45, 60, 80, 80, 100, 100, 100, 100\n\"xoph's blood\",\"Grants Level 23 Purity of Fire Skill\",20, 60, 90\n\"xoph's blood\",\"Zealotry has (15-20)% increased Aura Effect\",20, 30, 30, 30, 50, 100, 500\n\"xoph's blood\",\"Discipline has (15-20)% increased Aura Effect\",25, 33, 40, 50, 140\n\"xoph's blood\",\"(8-10)% increased Movement Speed\",80, 100, 100, 100, 200\n\"xoph's blood\",\"(4-6)% increased Strength', '(4-6)% increased Intelligence\",50, 100, 100, 100\n\"xoph's blood\",\"(4-6)% increased Dexterity', '(4-6)% increased Intelligence\",20, 40, 44, 60, 100, 100, 100, 200, 200, 500\n\"xoph's blood\",\"(20-30)% increased Rarity of Items found\",13, 26, 35, 100, 100, 300\n\"xoph's blood\",\"(20-24)% increased Elemental Damage with Attack Skills\",15, 60, 60, 100, 200, 200\n\"xoph's blood\",\"0.5% of Lightning Damage Leeched as Life\",20, 25, 25, 60\n\"xoph's blood\",\"(4-5)% Chance to Block Attack Damage\",40, 45, 50, 60, 100\n\"xoph's blood\",\"1% to all maximum Resistances\",40, 69, 100, 100, 140\n\"xoph's blood\",\"You can apply 1 additional Curses\",100, 120, 200, 200, 250.0, 500, 500, 500\n\"xoph's blood\",\"Grants Level 23 Purity of Lightning Skill\",20, 20, 25, 30, 50, 64, 85\n\"xoph's blood\",\"Determination has (15-20)% increased Aura Effect\",20, 20, 63, 115\n\"xoph's blood\",\"Grants Level 21 Clarity Skill\",32\n\"xoph's blood\",\"(14-16)% to all Elemental Resistances\",50, 70, 80, 90, 800\n\"xoph's blood\",\"Grace has (15-20)% increased Aura Effect\",45, 60\n\"xoph's blood\",\"Malevolence has (15-20)% increased Aura Effect\",20, 22, 25, 100\n\"xoph's blood\",\"Grants Level 21 Purity of Elements Skill\",25, 30, 80, 300\n\"xoph's blood\",\"(4-6)% increased Strength', '(4-6)% increased Dexterity\",100, 100, 100, 250.0\n\"xoph's heart\",\"(20-30) to Strength\",4, 5, 5, 5, 8, 9, 9, 9, 10, 10\n\"xoph's heart\",\"0.5% of Cold Damage Leeched as Life\",10, 20\n\"xoph's heart\",\"Grace has (15-20)% increased Aura Effect\",20, 40\n\"xoph's heart\",\"Pride has (15-20)% increased Aura Effect\",10, 15, 30\n\"xoph's heart\",\"Grants Level 21 Purity of Elements Skill\",15\n\"xoph's heart\",\"Malevolence has (15-20)% increased Aura Effect\",20, 100\n\"xoph's heart\",\"Zealotry has (15-20)% increased Aura Effect\",10\n\"xoph's heart\",\"Discipline has (15-20)% increased Aura Effect\",25\n\"xoph's heart\",\"(8-10)% increased Attack Speed\",20, 20\n\"xoph's heart\",\"Anger has (15-20)% increased Aura Effect\",100\n\"xoph's heart\",\"(20-24)% increased Elemental Damage with Attack Skills\",40\n\"xoph's heart\",\"Hatred has (15-20)% increased Aura Effect\",50\n\"xoph's heart\",\"(8-10)% increased Movement Speed\",40, 50\n\"xoph's heart\",\"(4-5)% Chance to Block Attack Damage\",10\n\"xoph's heart\",\"(4-6)% increased Strength', '(4-6)% increased Intelligence\",35, 100\n\"xoph's heart\",\"You can apply 1 additional Curses\",100\n\"xoph's heart\",\"0.5% of Lightning Damage Leeched as Life\",15\n\"xoph's inception\",\"(3-5)% increased Attack Speed (Local)\",2, 7, 10\n\"xoph's inception\",\"Adds (27-31) to (39-50) Fire Damage (Local)\",20, 45\n\"xoph's inception\",\"Socketed Gems are supported by Level 10 Blind\",3, 3, 10, 10\n\"xoph's inception\",\"Adds (22-27) to (36-44) Cold Damage (Local)\",100, 100\n\"xoph's inception\",\"Socketed Gems are Supported by Level 10 Onslaught\",4, 10\n\"xoph's inception\",\"Adds (3-7) to (73-84) Lightning Damage (Local)\",4\n\"xoph's inception\",\"(9-11)% chance to gain a Frenzy Charge on Kill\",10, 10\n\"xoph's inception\",\"Socketed Gems are supported by Level 10 Faster Projectiles\",5\n\"xoph's inception\",\"(10-15)% increased Physical Damage\",5, 5, 100\n\"xoph's nurture\",\"Adds (4-5) to (6-8) Physical Damage (Local)\",10, 60\n\"xoph's nurture\",\"(9-11)% chance to gain a Frenzy Charge on Kill\",9, 15, 30, 40, 80, 150.0, 1000\n\"xoph's nurture\",\"Bow Attacks fire an additional Arrow\",300\n\"xoph's nurture\",\"Socketed Gems are supported by Level 10 Faster Projectiles\",20, 30, 30, 40\n\"xoph's nurture\",\"Adds (27-31) to (39-50) Fire Damage (Local)\",5, 15, 15\n\"xoph's nurture\",\"(14-18)% increased Critical Strike Chance\",100, 1000\n\"xoph's nurture\",\"Adds (22-27) to (36-44) Cold Damage (Local)\",35, 50, 65\n\"xoph's nurture\",\"Socketed Gems are supported by Level 10 Blind\",3, 35\n\"xoph's nurture\",\"(10-15)% increased Physical Damage\",100\n\"xoph's nurture\",\"Adds (3-7) to (73-84) Lightning Damage (Local)\",30\n\"xoph's nurture\",\"Socketed Gems are Supported by Level 10 Onslaught\",50, 50, 100\n\"xoph's nurture\",\"(3-5)% increased Attack Speed (Local)\",30\n\"ylfeban's trickery\",\"Regenerate (1.6-2)% of Life per second\",9\n\"ylfeban's trickery\",\"2 to Level of Socketed Aura Gems\",7, 9\n\"ylfeban's trickery\",\"2 to Level of Socketed Curse Gems\",9, 25, 400\n\"ylfeban's trickery\",\"2 to Level of Socketed Warcry Gems\",30, 200\n\"ylfeban's trickery\",\"0.5% of Fire Damage Leeched as Life\",300\n\"ylfeban's trickery\",\"2 to Level of Socketed Trap or Mine Gems\",200\n\"ylfeban's trickery\",\"2 to Level of Socketed Lightning Gems\",100\n\"ylfeban's trickery\",\"2 to Level of Socketed Projectile Gems\",30\n\"ylfeban's trickery\",\"(4-6)% increased maximum Energy Shield\",50\n\"ylfeban's trickery\",\"2 to Level of Socketed Cold Gems\",10\n\"ylfeban's trickery\",\"0.5% of Cold Damage Leeched as Life\",75\n\"ylfeban's trickery\",\"2 to Level of Socketed Fire Gems\",9\n\"yoke of suffering\",\"0.5% of Cold Damage Leeched as Life\",10, 30, 100\n\"yoke of suffering\",\"Determination has (15-20)% increased Aura Effect\",5, 10, 10, 50\n\"yoke of suffering\",\"(10-16) to all Attributes\",2, 2, 2, 2, 3, 4, 4, 4, 4, 5\n\"yoke of suffering\",\"Zealotry has (15-20)% increased Aura Effect\",8, 10, 10, 15, 30, 100, 100\n\"yoke of suffering\",\"Grants Level 23 Purity of Ice Skill\",12, 100, 100\n\"yoke of suffering\",\"You can apply 1 additional Curses\",300, 500, 600\n\"yoke of suffering\",\"Grants Level 21 Purity of Elements Skill\",15, 25, 25, 30, 800, 1100\n\"yoke of suffering\",\"Discipline has (15-20)% increased Aura Effect\",4, 10, 10, 10, 15, 100, 200\n\"yoke of suffering\",\"Grants Level 23 Purity of Fire Skill\",5, 10, 20, 31, 40, 50, 200\n\"yoke of suffering\",\"Hatred has (15-20)% increased Aura Effect\",300\n\"yoke of suffering\",\"(8-10)% increased Attack Speed\",10, 15\n\"yoke of suffering\",\"Anger has (15-20)% increased Aura Effect\",3, 10, 25, 25\n\"yoke of suffering\",\"(20-30)% increased Rarity of Items found\",6\n\"yoke of suffering\",\"(20-24)% increased Elemental Damage with Attack Skills\",10, 15, 25\n\"yoke of suffering\",\"(4-6)% increased Strength', '(4-6)% increased Intelligence\",35, 80, 100\n\"yoke of suffering\",\"(4-6)% increased Strength', '(4-6)% increased Dexterity\",10, 20, 30\n\"yoke of suffering\",\"Wrath has (15-20)% increased Aura Effect\",15, 15, 100\n\"yoke of suffering\",\"Pride has (15-20)% increased Aura Effect\",10, 20\n\"yoke of suffering\",\"(8-10)% increased Movement Speed\",2, 20, 30\n\"yoke of suffering\",\"Grants Level 23 Purity of Lightning Skill\",15\n\"yoke of suffering\",\"Grants Level 23 Malevolence Skill\",40, 40, 100, 200, 300\n\"yoke of suffering\",\"(14-16)% to all Elemental Resistances\",10, 60\n\"yoke of suffering\",\"1% to all maximum Resistances\",10, 10, 100, 100\n\"yoke of suffering\",\"(4-5)% Chance to Block Spell Damage\",7, 7, 20, 50\n\"yoke of suffering\",\"0.5% of Fire Damage Leeched as Life\",10, 10, 25\n\"yoke of suffering\",\"Malevolence has (15-20)% increased Aura Effect\",20, 70, 200\n\"yoke of suffering\",\"0.5% of Lightning Damage Leeched as Life\",2, 30\n\"yoke of suffering\",\"Grace has (15-20)% increased Aura Effect\",5\n\"yoke of suffering\",\"Grants Level 21 Clarity Skill\",10\n\"yoke of suffering\",\"(4-5)% Chance to Block Attack Damage\",10, 15\n\"yriel's fostering\",\"2 to Level of Socketed Projectile Gems\",500\n\"yriel's fostering\",\"2 to Level of Socketed AoE Gems\",500, 5000\n\"yriel's fostering\",\"(4-6)% increased maximum Life\",200\n\"yriel's fostering\",\"(6-4)% reduced Cold Damage taken\",250.0, 1800\n\"yriel's fostering\",\"(3-5)% additional Physical Damage Reduction while stationary\",10\n\"yriel's fostering\",\"1 to Level of Socketed Gems\",20\n\"zahndethus' cassock\",\"2 to Level of Socketed Trap or Mine Gems\",1, 2, 4, 5, 10, 10, 30, 50, 100, 100\n\"zahndethus' cassock\",\"1 to Level of Socketed Gems\",1, 1, 3, 5, 5, 10, 10, 15, 15, 70\n\"zahndethus' cassock\",\"2 to Level of Socketed AoE Gems\",1, 1, 3, 5, 5, 10, 15, 30, 35, 40\n\"zahndethus' cassock\",\"2 to Level of Socketed Projectile Gems\",1, 3, 5, 6, 90, 100, 150\n\"zahndethus' cassock\",\"(40-50)% increased Damage\",1, 1, 1, 8, 10, 20, 20, 25, 30, 100\n\"zahndethus' cassock\",\"2 to Level of Socketed Curse Gems\",1, 4, 5, 8, 10, 10, 50, 55, 100\n\"zahndethus' cassock\",\"(-6--4)% increased Fire Damage taken\",3, 5, 5, 10, 50\n\"zahndethus' cassock\",\"(6-4)% reduced Lightning Damage taken\",1, 3, 3, 20, 50\n\"zahndethus' cassock\",\"1% to all maximum Resistances\",3, 10, 100, 100, 200\n\"zahndethus' cassock\",\"(4-6)% increased maximum Life\",2, 5, 5, 6, 10, 200\n\"zahndethus' cassock\",\"You take 50% reduced Extra Damage from Critical Strikes\",5, 6, 10, 20, 55, 788\n\"zahndethus' cassock\",\"2 to Level of Socketed Duration Gems\",2, 2, 8, 10, 15, 20, 20, 20, 50\n\"zahndethus' cassock\",\"2 to Level of Socketed Aura Gems\",1, 2, 3, 5, 50, 100, 2000\n\"zahndethus' cassock\",\"2 to Level of Socketed Warcry Gems\",5, 5, 8, 100, 1500\n\"zahndethus' cassock\",\"(6-4)% reduced Chaos Damage taken\",1, 2, 3, 5, 40, 700\n\"zahndethus' cassock\",\"(3-5)% additional Physical Damage Reduction while stationary\",1, 1, 10, 15\n\"zahndethus' cassock\",\"(4-6)% increased maximum Energy Shield\",2, 2, 7, 200\n\"zahndethus' cassock\",\"(6-4)% reduced Cold Damage taken\",1, 1, 2, 5, 11, 20\n\"zeel's amplifier\",\"(6-8)% of Physical Damage from Hits taken as Chaos Damage\",5, 8, 10, 10, 10, 10, 10, 35\n\"zeel's amplifier\",\"(4-6)% increased maximum Life\",1, 2, 4, 8, 20, 40\n\"zeel's amplifier\",\"2 to Level of Socketed Warcry Gems\",7, 15, 15, 19, 40, 49, 50\n\"zeel's amplifier\",\"Grants Level 23 Discipline Skill\",3, 100, 100, 100, 100\n\"zeel's amplifier\",\"(6-4)% reduced Damage taken from Projectiles\",1, 5, 5, 10, 10, 18, 20, 20, 40, 50\n\"zeel's amplifier\",\"Grants Level 23 Grace Skill\",25, 250.0\n\"zeel's amplifier\",\"2 to Level of Socketed AoE Gems\",10, 10, 10, 10, 15, 20, 20, 30, 40, 70\n\"zeel's amplifier\",\"(4-5)% Chance to Block (Shields)\",10, 12, 45, 50, 100, 100, 100\n\"zeel's amplifier\",\"4% chance to Dodge Attack Hits\",1, 1, 1, 1, 1, 1, 1, 1, 1, 1\n\"zeel's amplifier\",\"2 to Level of Socketed Aura Gems\",1, 10, 10, 45\n\"zeel's amplifier\",\"2 to Level of Socketed Projectile Gems\",3, 15, 40, 50, 100\n\"zeel's amplifier\",\"(4-6)% increased maximum Energy Shield\",8, 10, 10, 19, 80\n\"zeel's amplifier\",\"2 to Level of Socketed Curse Gems\",6, 20, 35, 70, 80, 100\n\"zeel's amplifier\",\"Grants Level 23 Determination Skill\",4, 30\n\"zeel's amplifier\",\"1 to Level of Socketed Gems\",10, 20, 33, 50\n\"zeel's amplifier\",\"2 to Level of Socketed Duration Gems\",1, 8, 15, 100, 100, 100, 400\n\"zeel's amplifier\",\"(6-4)% reduced Area Damage taken from Hits\",1, 4, 4, 5, 10, 10, 20, 20\n\"zeel's amplifier\",\"1% to maximum Chance to Block Attack Damage\",2, 10, 100\n\"zeel's amplifier\",\"(6-8)% of Physical Damage from Hits taken as Cold Damage\",1, 3, 5\n\"zeel's amplifier\",\"(6-8)% of Physical Damage from Hits taken as Lightning Damage\",2, 4\n\"zeel's amplifier\",\"(4-5)% Chance to Block Spell Damage\",5\n\"zeel's amplifier\",\"(6-8)% of Physical Damage from Hits taken as Fire Damage\",4, 50\n\"zeel's amplifier\",\"You take (20-30)% reduced Extra Damage from Critical Strikes\",3, 15\n\"zerphi's heart\",\"(4-5)% Chance to Block Spell Damage\",500\n\"zerphi's heart\",\"(20-30)% increased Mana Regeneration Rate\",35, 36, 200\n\"zerphi's heart\",\"Zealotry has (15-20)% increased Aura Effect\",36\n\"zerphi's heart\",\"0.5% of Fire Damage Leeched as Life\",100\n\"zerphi's heart\",\"(4-5)% Chance to Block Attack Damage\",30, 200\n\"zerphi's heart\",\"Hatred has (15-20)% increased Aura Effect\",15900\n\"zerphi's heart\",\"(8-10)% increased Attack Speed\",500\n\"zerphi's heart\",\"1% to all maximum Resistances\",150.0\n\n"
     ]
    }
   ],
   "source": [
    "\n",
    "output_csv = \"\"\n",
    "for k, v in item_to_corrupt_to_price.items():\n",
    "    for k_, v_ in v.items():\n",
    "        output_csv += f\"\"\"\"{k.replace('_', ' ').replace('.jsonl', '')}\",\"{str(k_)[4:-2]}\",{str(sorted(v_)[:10])[1:-1]}\\n\"\"\"\n",
    "print(output_csv)"
   ]
  },
  {
   "cell_type": "code",
   "execution_count": 8,
   "metadata": {},
   "outputs": [],
   "source": [
    "with open(\"unique_corrupt.csv\", \"w\") as f:\n",
    "    f.write(output_csv)"
   ]
  },
  {
   "cell_type": "code",
   "execution_count": 1,
   "metadata": {},
   "outputs": [],
   "source": [
    "with open(\"unique_counts.txt\", \"r\") as f:\n",
    "    file_str = f.read()"
   ]
  },
  {
   "cell_type": "code",
   "execution_count": 17,
   "metadata": {
    "tags": []
   },
   "outputs": [
    {
     "output_type": "stream",
     "name": "stdout",
     "text": [
      "\"Actum Butcher Axe\",10,6\n\n\"Agnerod South Imperial Staff\",73,58\n\n\"Ahkeli's Valley Ruby Ring\",13,9\n\n\"Arborix Assassin Bow\",10,5\n\n\"Architect's Hand Strapped Mitts\",34,27\n\n\"Arn's Anguish Cloth Belt\",1122,726\n\n\"Ascent From Flesh Chain Belt\",9,7\n\n\"Asenath's Chant Iron Circlet\",10,5\n\n\"Asenath's Gentle Touch Silk Gloves\",162,68\n\n\"Assailum Sinner Tricorne\",383,296\n\n\"Assassin's Haste Cobalt Jewel\",1186,767\n\n\"Astral Projector Topaz Ring\",34,27\n\n\"Astramentis Onyx Amulet\",625,476\n\n\"Atziri's Acuity Vaal Gauntlets\",112,54\n\n\"Atziri's Foible Paua Amulet\",682,531\n\n\"Atziri's Reflection Golden Buckler\",2,1\n\n\"Aul's Uprising Onyx Amulet\",137,99\n\n\"Aul's Uprising Onyx Amulet\",137,99\n\n\"Aul's Uprising Onyx Amulet\",137,99\n\n\"Aul's Uprising Onyx Amulet\",137,99\n\n\"Aurseize Steelscale Gauntlets\",389,299\n\n\"Auxium Crystal Belt\",276,211\n\n\"Badge of the Brotherhood Turquoise Amulet\",4,2\n\n\"Belt of the Deceiver Heavy Belt\",4520,3128\n\n\"Berek's Grip Two-Stone Ring\",611,487\n\n\"Berek's Respite Two-Stone Ring\",90,59\n\n\"Blasphemer's Grasp Assassin's Mitts\",2433,1290\n\n\"Bloodbond Bone Armour\",46,36\n\n\"Breathstealer Hydrascale Gauntlets\",97,67\n\n\"Broken Faith Archon Kite Shield\",57,43\n\n\"Brutal Restraint Timeless Jewel\",396,264\n\n\"Cameria's Avarice Gavel\",6,4\n\n\"Cane of Unravelling Ezomyte Staff\",208,165\n\n\"Chitus' Apex Necromancer Circlet\",119,88\n\n\"Chitus' Needle Elegant Foil\",9,6\n\n\"Circle of Guilt Iron Ring\",344,266\n\n\"Circle of Guilt Iron Ring\",344,266\n\n\"Cloak of Defiance Lacquered Garb\",219,167\n\n\"Command of the Pit Riveted Gloves\",127,97\n\n\"Command of the Pit Riveted Gloves\",127,97\n\n\"Conqueror's Efficiency Crimson Jewel\",5536,1904\n\n\"Coward's Chains Chain Belt\",71,52\n\n\"Coward's Legacy Chain Belt\",40,28\n\n\"Cragfall Serrated Arrow Quiver\",8,6\n\n\"Crown of the Inward Eye Prophet Crown\",4765,2780\n\n\"Crown of the Pale King Regicide Mask\",72,51\n\n\"Cyclopean Coil Leather Belt\",4271,2057\n\n\"Darkscorn Assassin Bow\",22,14\n\n\"Death Rush Amethyst Ring\",465,371\n\n\"Doppelgänger Guise Sadist Garb\",10,4\n\n\"Doryani's Delusion Slink Boots\",96,71\n\n\"Doryani's Delusion Sorcerer Boots\",276,71\n\n\"Elegant Hubris Timeless Jewel\",692,520\n\n\"Emperor's Might Crimson Jewel\",1,0\n\n\"Expedition's End Sentinel Jacket\",3,2\n\n\"Farrul's Bite Harlequin Mask\",102,81\n\n\"Farrul's Chase Slink Boots\",76,52\n\n\"Fate of the Vaal Gemstone Sword\",3,1\n\n\"Fenumus' Spinnerets Assassin's Boots\",17,13\n\n\"Forbidden Shako Great Crown\",116,91\n\n\"Frozen Trail Cobalt Jewel\",5841,4547\n\n\"Galesight Solaris Circlet\",48,37\n\n\"Garb of the Ephemeral Savant's Robe\",7,5\n\n\"Garb of the Ephemeral Savant's Robe\",7,5\n\n\"Garukhan's Flight Stealth Boots\",44,32\n\n\"Geofri's Legacy Great Crown\",2,1\n\n\"Glorious Vanity Timeless Jewel\",468,329\n\n\"Goldwyrm Nubuck Boots\",137,102\n\n\"Graven's Secret Cloth Belt\",968,752\n\n\"Gruthkul's Pelt Wyrmscale Doublet\",24,18\n\n\"Hand of the Fervent Zealot Gloves\",41,31\n\n\"Hand of Thought and Motion Blinder\",157,123\n\n\"Headhunter Leather Belt\",85,59\n\n\"Hegemony's Era Judgement Staff\",82,63\n\n\"Hinekora's Sight Onyx Amulet\",42,30\n\n\"Impresence Onyx Amulet\",2204,1304\n\n\"Impresence Onyx Amulet\",2204,1304\n\n\"Impresence Onyx Amulet\",2204,1304\n\n\"Impresence Onyx Amulet\",2204,1304\n\n\"Impresence Onyx Amulet\",2204,1304\n\n\"Indigon Hubris Circlet\",218,150\n\n\"Izaro's Dilemma Imperial Claw\",2,1\n\n\"Karui Ward Jade Amulet\",3431,738\n\n\"Kikazaru Topaz Ring\",1435,853\n\n\"Kitava's Teachings Small Cluster Jewel\",771,261\n\n\"Kondo's Pride Ezomyte Blade\",336,199\n\n\"Kongor's Undying Rage Terror Maul\",92,73\n\n\"Lakishu's Blade Elegant Sword\",388,207\n\n\"Last Resort Nailed Fist\",313,192\n\n\"Lavianga's Wisdom War Hammer\",32,25\n\n\"Law of the Wilds Hellion's Paw\",156,5\n\n\"Le Heup of All Iron Ring\",1341,600\n\n\"Leadership's Price Onyx Amulet\",2932,65\n\n\"Legacy of Fury Wyrmscale Boots\",644,10\n\n\"Lethal Pride Timeless Jewel\",492,143\n\n\"Light of Lunaris Jingling Spirit Shield\",134,94\n\n\"Lioneye's Fall Viridian Jewel\",1995,550\n\n\"Lioneye's Remorse Pinnacle Tower Shield\",559,435\n\n\"Lord of Steel Viridian Jewel\",7677,643\n\n\"Lord of Steel Viridian Jewel\",7677,643\n\n\"Lord of Steel Viridian Jewel\",7677,643\n\n\"Machina Mitts Murder Mitts\",25,13\n\n\"Magna Eclipsis Pinnacle Tower Shield\",112,77\n\n\"Malachai's Artifice Unset Ring\",1211,945\n\n\"Malicious Intent Cobalt Jewel\",2261,819\n\n\"Mantra of Flames Crimson Jewel\",964,653\n\n\"Mark of the Elder Steel Ring\",1385,50\n\n\"Mark of the Shaper Opal Ring\",1257,56\n\n\"Martial Artistry Crimson Jewel\",1239,702\n\n\"Martyr's Crown Vine Circlet\",1,0\n\n\"Marylene's Fallacy Lapis Amulet\",815,642\n\n\"Mask of the Tribunal Magistrate Crown\",154,13\n\n\"Mask of the Tribunal Magistrate Crown\",154,13\n\n\"Maw of Mischief Bone Helmet\",97,68\n\n\"Meginord's Girdle Heavy Belt\",997,687\n\n\"Midnight Bargain Engraved Wand\",341,125\n\n\"Might and Influence Viridian Jewel\",2137,855\n\n\"Might of the Meek Crimson Jewel\",2201,839\n\n\"Militant Faith Timeless Jewel\",516,115\n\n\"Mistwall Lacquered Buckler\",325,166\n\n\"Mjölner Gavel\",941,653\n\n\"Nadir Mode Cobalt Jewel\",683,6\n\n\"Natural Affinity Small Cluster Jewel\",783,271\n\n\"Natural Hierarchy Rotfeather Talisman\",1126,513\n\n\"Nebulis Void Sceptre\",189,10\n\n\"Nebulis Void Sceptre\",189,10\n\n\"Nebuloch Nightmare Mace\",789,23\n\n\"Night's Hold Black Maw Talisman\",1332,494\n\n\"Obliteration Demon's Horn\",2323,848\n\n\"Offering to the Serpent Legion Gloves\",312,22\n\n\"Offering to the Serpent Legion Gloves\",312,22\n\n\"Olesya's Delight Cloth Belt\",895,32\n\n\"Omen on the Winds Viridian Jewel\",3002,1017\n\n\"Omeyocan Carnal Boots\",6,4\n\n\"One With Nothing Small Cluster Jewel\",662,176\n\n\"Oro's Sacrifice Infernal Sword\",685,510\n\n\"Oskarm Nubuck Gloves\",1035,801\n\n\"Overwhelming Odds Crimson Jewel\",2027,852\n\n\"Painseeker Shagreen Gloves\",613,184\n\n\"Paradoxica Vaal Rapier\",357,281\n\n\"Perandus Blazon Cloth Belt\",2391,870\n\n\"Perandus Signet Paua Ring\",754,515\n\n\"Perepiteia Ezomyte Spiked Shield\",148,19\n\n\"Perepiteia Ezomyte Spiked Shield\",148,19\n\n\"Piscator's Vigil Tornado Wand\",850,571\n\n\"Poacher's Aim Viridian Jewel\",719,6\n\n\"Praxis Paua Ring\",1576,907\n\n\"Precursor's Emblem Topaz Ring\",30,22\n\n\"Precursor's Emblem Two-Stone Ring\",118,22\n\n\"Precursor's Emblem Two-Stone Ring\",118,22\n\n\"Precursor's Emblem Two-Stone Ring\",118,22\n\n\"Primordial Eminence Viridian Jewel\",3375,831\n\n\"Primordial Harmony Cobalt Jewel\",3945,896\n\n\"Primordial Might Crimson Jewel\",940,518\n\n\"Prism Guardian Archon Kite Shield\",8200,375\n\n\"Prismatic Eclipse Twilight Blade\",955,611\n\n\"Profane Proxy Unset Ring\",841,653\n\n\"Pugilist Viridian Jewel\",997,782\n\n\"Pure Talent Viridian Jewel\",1374,602\n\n\"Pyre Sapphire Ring\",1148,600\n\n\"Qotra's Regulator Sovereign Spiked Shield\",38,26\n\n\"Queen's Decree Ornate Sword\",355,211\n\n\"Quickening Covenant Viridian Jewel\",851,522\n\n\"Rain of Splinters Crimson Jewel\",887,662\n\n\"Rapid Expansion Crimson Jewel\",2059,803\n\n\"Razor of the Seventh Sun Midnight Blade\",214,2\n\n\"Reach of the Council Spine Bow\",4,3\n\n\"Rebuke of the Vaal Vaal Blade\",33,20\n\n\"Reckless Defence Cobalt Jewel\",1110,617\n\n\"Redbeak Rusted Sword\",419,192\n\n\"Reefbane Fishing Rod\",8,6\n\n\"Replica Abyssus Ezomyte Burgonet\",13,7\n\n\"Replica Advancing Fortress Gut Ripper\",13,10\n\n\"Replica Atziri's Acuity Vaal Gauntlets\",12,7\n\n\"Replica Blood Thorn Gnarled Branch\",4,2\n\n\"Replica Fragile Bloom Crimson Jewel\",29,22\n\n\"Replica Frostbreath Ornate Mace\",15,10\n\n\"Replica Harvest Jasper Chopper\",5,3\n\n\"Replica Karui Ward Jade Amulet\",75,55\n\n\"Replica Last Resort Nailed Fist\",37,26\n\n\"Replica Leer Cast Festival Mask\",8,6\n\n\"Replica Lioneye's Paws Bronzescale Boots\",18,9\n\n\"Replica Loreweave Elegant Ringmail\",5,2\n\n\"Replica Maloney's Mechanism Ornate Quiver\",2,1\n\n\"Replica Midnight Bargain Engraved Wand\",4,3\n\n\"Replica Perfect Form Zodiac Leather\",4,3\n\n\"Replica Shroud of the Lightless Carnal Armour\",1,0\n\n\"Replica Siegebreaker Heavy Belt\",14,8\n\n\"Replica Soul Tether Cloth Belt\",36,28\n\n\"Replica Stampede Assassin's Boots\",13,10\n\n\"Replica Trypanon Great Mallet\",4,1\n\n\"Replica Twyzel Sage Wand\",12,8\n\n\"Replica Ungil's Gauche Boot Knife\",6,4\n\n\"Replica Veil of the Night Great Helmet\",8,2\n\n\"Replica Wings of Entropy Ezomyte Axe\",4,3\n\n\"Retaliation Charm Citrine Amulet\",1089,871\n\n\"Rigwald's Charge Highland Blade\",348,185\n\n\"Rigwald's Curse Wereclaw Talisman\",1931,400\n\n\"Rigwald's Savagery Royal Axe\",18,14\n\n\"Rime Gaze Mind Cage\",1084,628\n\n\"Ring of Blades Viridian Jewel\",3653,1027\n\n\"Rolling Flames Cobalt Jewel\",2326,909\n\n\"Romira's Banquet Diamond Ring\",1372,496\n\n\"Ryslatha's Coil Studded Belt\",99,69\n\n\"Sadima's Touch Wool Gloves\",2751,928\n\n\"Saffell's Frame Branded Kite Shield\",1732,931\n\n\"Sanguine Gambol Skinning Knife\",4,3\n\n\"Scaeva Gladius\",779,529\n\n\"Seven-League Step Rawhide Boots\",74,58\n\n\"Severed in Sleep Cutlass\",187,45\n\n\"Shackles of the Wretched Chain Gloves\",4829,986\n\n\"Shadows and Dust Clasped Mitts\",686,496\n\n\"Shaper's Seed Agate Amulet\",1341,807\n\n\"Shaper's Touch Crusader Gloves\",5245,103\n\n\"Shavronne's Wrappings Occultist's Vestment\",975,773\n\n\"Shimmeron Tornado Wand\",500,4\n\n\"Shiversting Bastard Sword\",224,89\n\n\"Sidhebreath Paua Amulet\",1350,981\n\n\"Silverbough Crude Bow\",10,7\n\n\"Sin Trek Stealth Boots\",798,478\n\n\"Skin of the Loyal Simple Robe\",1150,361\n\n\"Skyforth Sorcerer Boots\",250,77\n\n\"Slavedriver's Hand Ambush Mitts\",6,3\n\n\"Snakebite Assassin's Mitts\",2754,903\n\n\"Snakepit Sapphire Ring\",269,23\n\n\"Solstice Vigil Onyx Amulet\",537,69\n\n\"Soul Strike Spike-Point Arrow Quiver\",1076,681\n\n\"Soul Taker Siege Axe\",144,115\n\n\"Soul Tether Cloth Belt\",2556,989\n\n\"Soul's Wick Cobalt Jewel\",1468,787\n\n\"Southbound Soldier Gloves\",2044,783\n\n\"Spine of the First Claimant Iron Sceptre\",10,7\n\n\"Spire of Stone Crimson Jewel\",766,600\n\n\"Spirit Guards Viridian Jewel\",1135,754\n\n\"Spirited Response Cobalt Jewel\",1060,699\n\n\"Spreading Rot Cobalt Jewel\",2957,890\n\n\"Starkonja's Head Silken Hood\",1537,919\n\n\"Steel Spirit Viridian Jewel\",879,575\n\n\"Storm's Gift Assassin's Mitts\",343,34\n\n\"Storm's Gift Assassin's Mitts\",343,34\n\n\"Stormfire Opal Ring\",675,254\n\n\"String of Servitude Heavy Belt\",10000,645\n\n\"Survival Instincts Viridian Jewel\",423,0\n\n\"Survival Secrets Cobalt Jewel\",509,0\n\n\"Survival Skills Crimson Jewel\",313,0\n\n\"Tabula Rasa Simple Robe\",7282,885\n\n\"Terminus Est Tiger Sword\",555,353\n\n\"The Admiral Varnished Coat\",19,15\n\n\"The Anima Stone Prismatic Jewel\",396,142\n\n\"The Anticipation Ezomyte Tower Shield\",10,6\n\n\"The Anvil Amber Amulet\",2038,922\n\n\"The Aylardex Agate Amulet\",856,666\n\n\"The Brass Dome Gladiator Plate\",122,88\n\n\"The Crimson Storm Steelwood Bow\",11,6\n\n\"The Dancing Dervish Reaver Sword\",344,172\n\n\"The Dancing Duo Reaver Sword\",6,3\n\n\"The Dark Seer Shadow Sceptre\",251,79\n\n\"The Dark Seer Shadow Sceptre\",251,79\n\n\"The Dark Seer Shadow Sceptre\",251,79\n\n\"The Devouring Diadem Necromancer Circlet\",236,80\n\n\"The Embalmer Carnal Mitts\",2786,941\n\n\"The Eternity Shroud Blood Raiment\",14,10\n\n\"The Fledgling Lacquered Helmet\",194,4\n\n\"The Flow Untethered Cloth Belt\",362,137\n\n\"The Front Line Small Cluster Jewel\",710,248\n\n\"The Golden Rule Viridian Jewel\",2393,898\n\n\"The Green Nightmare Viridian Jewel\",164,126\n\n\"The Hidden Blade Ambusher\",6,3\n\n\"The Interrogation Small Cluster Jewel\",737,245\n\n\"The Iron Fortress Crusader Plate\",1,0\n\n\"The Iron Mass Gladius\",21,16\n\n\"The Jinxed Juju Citrine Amulet\",1304,720\n\n\"The Overflowing Chalice Sulphur Flask\",10,7\n\n\"The Pandemonius Jade Amulet\",166,104\n\n\"The Princess Sabre\",505,266\n\n\"The Red Trail Titan Greaves\",220,89\n\n\"The Saviour Legion Sword\",250,28\n\n\"The Scourge Terror Claw\",206,2\n\n\"The Siege Small Cluster Jewel\",665,245\n\n\"The Signal Fire Fire Arrow Quiver\",814,571\n\n\"The Surrender Ezomyte Tower Shield\",67,50\n\n\"The Tempest's Binding Callous Mask\",46,32\n\n\"The Torrent's Reclamation Cloth Belt\",12,6\n\n\"The Vertex Vaal Mask\",722,19\n\n\"The Vigil Crimson Jewel\",2016,688\n\n\"The Wasp Nest Throat Stabber\",668,513\n\n\"Thread of Hope Crimson Jewel\",2984,260\n\n\"Thunderfist Murder Mitts\",844,509\n\n\"To Dust Cobalt Jewel\",670,503\n\n\"Tombfist Steelscale Gauntlets\",1336,718\n\n\"Tombfist Steelscale Gauntlets\",1336,718\n\n\"Transcendent Flesh Crimson Jewel\",4,3\n\n\"Transcendent Mind Cobalt Jewel\",2,0\n\n\"Triad Grip Mesh Gloves\",1656,915\n\n\"Ungil's Harmony Turquoise Amulet\",2840,785\n\n\"Unstable Payload Cobalt Jewel\",1217,730\n\n\"Veruso's Battering Rams Titan Gauntlets\",753,583\n\n\"Victario's Charity Laminated Kite Shield\",1546,890\n\n\"Victario's Influence Lacquered Garb\",685,538\n\n\"Viridi's Veil Praetor Crown\",624,26\n\n\"Vivinsect Unset Ring\",6,4\n\n\"Void Battery Prophecy Wand\",939,395\n\n\"Voidbringer Conjurer Gloves\",827,645\n\n\"Voidfletcher Penetrating Arrow Quiver\",2168,72\n\n\"Voidwalker Murder Boots\",1471,67\n\n\"Voll's Devotion Agate Amulet\",389,96\n\n\"Volley Fire Viridian Jewel\",2416,969\n\n\"Vulconus Demon Dagger\",358,190\n\n\"Wall of Brambles Plate Vest\",4,2\n\n\"Warlord's Reach Crimson Jewel\",537,5\n\n\"Watcher's Eye Prismatic Jewel\",4868,491\n\n\"Weight of the Empire Crimson Jewel\",2050,827\n\n\"Wildfire Crimson Jewel\",2524,935\n\n\"Willowgift Jade Amulet\",885,173\n\n\"Winter Burial Crimson Jewel\",2085,822\n\n\"Winter's Bounty Cobalt Jewel\",971,628\n\n\"Wreath of Phrecia Iron Circlet\",13,8\n\n\"Wurm's Molt Leather Belt\",1157,922\n\n\"Xoph's Blood Amber Amulet\",413,230\n\n\"Yoke of Suffering Onyx Amulet\",279,130\n\n"
     ]
    }
   ],
   "source": [
    "r = r\"\\s(\\d+)\\s(\\d+)\"\n",
    "import re\n",
    "output_str = \"\"\n",
    "r_split = re.split(r, file_str)\n",
    "for name, total, count in zip(r_split[::3],r_split[1::3],r_split[2::3]):\n",
    "    output_str += f'\"{name}\",{total},{count}\\n'\n",
    "    if total != 0 and int(count) < .8*int(total):\n",
    "        print(f'\"{name}\",{total},{count}\\n')\n"
   ]
  },
  {
   "cell_type": "code",
   "execution_count": 8,
   "metadata": {},
   "outputs": [
    {
     "output_type": "stream",
     "text": [
      "\u001b[1;31mSignature:\u001b[0m \u001b[0mre\u001b[0m\u001b[1;33m.\u001b[0m\u001b[0msplit\u001b[0m\u001b[1;33m(\u001b[0m\u001b[0mpattern\u001b[0m\u001b[1;33m,\u001b[0m \u001b[0mstring\u001b[0m\u001b[1;33m,\u001b[0m \u001b[0mmaxsplit\u001b[0m\u001b[1;33m=\u001b[0m\u001b[1;36m0\u001b[0m\u001b[1;33m,\u001b[0m \u001b[0mflags\u001b[0m\u001b[1;33m=\u001b[0m\u001b[1;36m0\u001b[0m\u001b[1;33m)\u001b[0m\u001b[1;33m\u001b[0m\u001b[1;33m\u001b[0m\u001b[0m\n",
      "\u001b[1;31mDocstring:\u001b[0m\n",
      "Split the source string by the occurrences of the pattern,\n",
      "returning a list containing the resulting substrings.  If\n",
      "capturing parentheses are used in pattern, then the text of all\n",
      "groups in the pattern are also returned as part of the resulting\n",
      "list.  If maxsplit is nonzero, at most maxsplit splits occur,\n",
      "and the remainder of the string is returned as the final element\n",
      "of the list.\n",
      "\u001b[1;31mFile:\u001b[0m      c:\\users\\nick\\appdata\\local\\programs\\python\\python37\\lib\\re.py\n",
      "\u001b[1;31mType:\u001b[0m      function\n"
     ],
     "name": "stdout"
    }
   ],
   "source": [
    "re.split?"
   ]
  },
  {
   "cell_type": "code",
   "execution_count": 1,
   "metadata": {
    "tags": []
   },
   "outputs": [
    {
     "output_type": "stream",
     "name": "stdout",
     "text": [
      "Error tokenizing data. C error: Expected 1 fields in line 8, saw 2\n\ndata/synth_prices/synth_prices.rar\n                                   path  Unnamed: 0  \\\n0     data/synth_prices/ABYSS_JEWEL.csv           0   \n1     data/synth_prices/ABYSS_JEWEL.csv           1   \n2     data/synth_prices/ABYSS_JEWEL.csv           2   \n3     data/synth_prices/ABYSS_JEWEL.csv           3   \n4     data/synth_prices/ABYSS_JEWEL.csv           4   \n...                                 ...         ...   \n5550     data/synth_prices/WARSTAFF.csv         241   \n5551     data/synth_prices/WARSTAFF.csv         242   \n5552     data/synth_prices/WARSTAFF.csv         243   \n5553     data/synth_prices/WARSTAFF.csv         244   \n5554     data/synth_prices/WARSTAFF.csv         245   \n\n                                               mod_json  \\\n0     {\"name\": \"\", \"tier\": \"\", \"magnitudes\": [{\"hash...   \n1     {\"name\": \"\", \"tier\": \"\", \"magnitudes\": [{\"hash...   \n2     {\"name\": \"\", \"tier\": \"\", \"magnitudes\": [{\"hash...   \n3     {\"name\": \"\", \"tier\": \"\", \"magnitudes\": [{\"hash...   \n4     {\"name\": \"\", \"tier\": \"\", \"magnitudes\": [{\"hash...   \n...                                                 ...   \n5550  {\"name\": \"\", \"tier\": \"\", \"magnitudes\": [{\"hash...   \n5551  {\"name\": \"\", \"tier\": \"\", \"magnitudes\": [{\"hash...   \n5552  {\"name\": \"\", \"tier\": \"\", \"magnitudes\": [{\"hash...   \n5553  {\"name\": \"\", \"tier\": \"\", \"magnitudes\": [{\"hash...   \n5554  {\"name\": \"\", \"tier\": \"\", \"magnitudes\": [{\"hash...   \n\n                                                mod_str  price_0  price_1  \\\n0        ['(4-5)% increased Shock Duration on Enemies']      4.0     10.0   \n1       ['(3-4)% chance to Taunt Enemies on Hit with...    100.0    100.0   \n2           ['(3-4)% increased Minion Accuracy Rating']    100.0    100.0   \n3                         ['(2-3)% to Cold Resistance']    100.0    200.0   \n4                      ['(4-5)% increased Cold Damage']    100.0    100.0   \n...                                                 ...      ...      ...   \n5550    ['(5-10)% chance to gain a Frenzy Charge on ...     50.0    600.0   \n5551                ['(37-40)% increased Chaos Damage']     10.0     28.0   \n5552    ['(15-17)% to Global Critical Strike Multipl...      NaN      NaN   \n5553                 ['1 to Maximum Endurance Charges']     50.0     50.0   \n5554               ['(36-44)% increased Attack Damage']      6.0     10.0   \n\n      price_2  price_3  price_4  price_5  ...  price_90  price_91  price_92  \\\n0        10.0     15.0    100.0    100.0  ...       NaN       NaN       NaN   \n1       100.0    100.0    100.0    160.0  ...       NaN       NaN       NaN   \n2       100.0    150.0    150.0    200.0  ...       NaN       NaN       NaN   \n3       200.0    250.0    350.0    350.0  ...       NaN       NaN       NaN   \n4       100.0    100.0    100.0    100.0  ...       NaN       NaN       NaN   \n...       ...      ...      ...      ...  ...       ...       ...       ...   \n5550      NaN      NaN      NaN      NaN  ...       NaN       NaN       NaN   \n5551    100.0   2000.0      NaN      NaN  ...       NaN       NaN       NaN   \n5552      NaN      NaN      NaN      NaN  ...       NaN       NaN       NaN   \n5553    200.0      NaN      NaN      NaN  ...       NaN       NaN       NaN   \n5554     20.0     30.0     60.0    100.0  ...       NaN       NaN       NaN   \n\n      price_93  price_94  price_95  price_96  price_97  price_98  price_99  \n0          NaN       NaN       NaN       NaN       NaN       NaN       NaN  \n1          NaN       NaN       NaN       NaN       NaN       NaN       NaN  \n2          NaN       NaN       NaN       NaN       NaN       NaN       NaN  \n3          NaN       NaN       NaN       NaN       NaN       NaN       NaN  \n4          NaN       NaN       NaN       NaN       NaN       NaN       NaN  \n...        ...       ...       ...       ...       ...       ...       ...  \n5550       NaN       NaN       NaN       NaN       NaN       NaN       NaN  \n5551       NaN       NaN       NaN       NaN       NaN       NaN       NaN  \n5552       NaN       NaN       NaN       NaN       NaN       NaN       NaN  \n5553       NaN       NaN       NaN       NaN       NaN       NaN       NaN  \n5554       NaN       NaN       NaN       NaN       NaN       NaN       NaN  \n\n[5555 rows x 104 columns]\n"
     ]
    }
   ],
   "source": [
    "import os\n",
    "from PoEQuery.official_api_result import OfficialApiResult\n",
    "from dataclasses import dataclass\n",
    "import json\n",
    "\n",
    "def load_jsons(filepath):\n",
    "  with open(filepath, 'r') as f:\n",
    "    return [json.loads(line) for line in f.readlines()]\n",
    "\n",
    "def get_chaos_value(item: OfficialApiResult):\n",
    "  if item.price is not None:\n",
    "    if item.price.currency == \"chaos\":\n",
    "      return item.price.amount\n",
    "    elif item.price.currency == \"exalted\":\n",
    "      return item.price.amount * 100\n",
    "    elif item.price.currency == \"mirror\":\n",
    "      return item.price.amount * 100 * 350\n",
    "  return None\n",
    "\n",
    "\n",
    "\n",
    "from collections import defaultdict\n",
    "item_to_corrupt_to_price = defaultdict(lambda : defaultdict(list))\n",
    "\n",
    "import pandas as pd\n",
    "\n",
    "base_dir = \"data/synth_prices/\"\n",
    "paths = [f\"{base_dir}{path}\" for path in os.listdir(base_dir)]\n",
    "# paths = [\"data/watchers_eyes.csv\"]\n",
    "dfs = []\n",
    "for path in paths:\n",
    "    try:\n",
    "        read_df = pd.read_csv(path)\n",
    "        read_df.insert(0,\"path\",path)\n",
    "        dfs.append(read_df)\n",
    "    except Exception as e:\n",
    "        print(e)\n",
    "        print(path)\n",
    "    \n",
    "df = pd.concat(dfs, ignore_index=True)\n",
    "print(df)\n",
    "  \n",
    "\n",
    "      # print(item.price, item.implicits[0])\n"
   ]
  },
  {
   "cell_type": "code",
   "execution_count": 2,
   "metadata": {
    "tags": []
   },
   "outputs": [],
   "source": [
    "from PoEQuery.utils import sort_prices\n",
    "\n",
    "df = sort_prices(df)"
   ]
  },
  {
   "cell_type": "code",
   "execution_count": 101,
   "metadata": {
    "tags": []
   },
   "outputs": [
    {
     "output_type": "stream",
     "name": "stdout",
     "text": [
      "data/synth_prices/TWO_HANDED_MACE.csv   ['Adds (10-14) to (16-25) Fire Damage to Spells'] 99900.0\ndata/synth_prices/SHIELD.csv   ['(56-70) to Armour (Local)'] 42000.0\ndata/synth_prices/ONE_HANDED_MACE.csv   ['(13-15)% increased Armour'] 42000.0\ndata/synth_prices/TWO_HANDED_SWORD.csv   ['Minions deal (13-14)% increased Damage'] 25000.0\ndata/synth_prices/CLAW.csv   ['(12-14) to Intelligence'] 15000.0\ndata/synth_prices/CLUSTER_JEWEL.csv   ['(2-3)% increased Damage with Bleeding'] 14900.0\ndata/synth_prices/CLUSTER_JEWEL.csv   ['3% increased Mine Throwing Speed'] 12000.0\ndata/synth_prices/WAND.csv   ['Enemies you Kill Explode, dealing 3% of their Life as Physical Damage'] 10000.0\ndata/synth_prices/RING.csv   ['1 to Maximum Power Charges'] 9500.0\ndata/synth_prices/CLAW.csv   ['Adds (15-18) to (26-31) Cold Damage to Spells'] 8000.0\ndata/synth_prices/RING.csv   ['1 to Maximum Frenzy Charges'] 7000.0\ndata/synth_prices/TWO_HANDED_AXE.csv   ['Minions deal (13-14)% increased Damage'] 5000.0\ndata/synth_prices/CLUSTER_JEWEL.csv   ['3% chance to Poison on Hit'] 5000.0\ndata/synth_prices/TWO_HANDED_AXE.csv   ['Minions deal (11-12)% increased Damage'] 5000.0\ndata/synth_prices/SCEPTRE.csv   ['Enemies you Kill Explode, dealing 3% of their Life as Physical Damage'] 5000.0\ndata/synth_prices/BOOTS.csv   ['Onslaught'] 5000.0\ndata/synth_prices/CLUSTER_JEWEL.csv   ['Attacks cannot cause Bleeding'] 4000.0\ndata/synth_prices/RUNE_DAGGER.csv   ['Adds (13-18) to (24-31) Fire Damage (Local)'] 3500.0\ndata/synth_prices/SHIELD.csv   ['1 to Maximum Frenzy Charges'] 3500.0\ndata/synth_prices/RUNE_DAGGER.csv   ['Enemies you Kill Explode, dealing 3% of their Life as Physical Damage'] 3500.0\ndata/synth_prices/SCEPTRE.csv   ['(25-30) Life gained for each Enemy hit by Attacks'] 3000.0\ndata/synth_prices/CLAW.csv   ['(24-26)% to Global Critical Strike Multiplier'] 3000.0\ndata/synth_prices/SCEPTRE.csv   ['Recover (1-2)% of Life on Kill'] 3000.0\ndata/synth_prices/CLUSTER_JEWEL.csv   ['(3-4)% increased Spell Damage while wielding a Staff'] 3000.0\ndata/synth_prices/SHIELD.csv   ['Regenerate 0.2% of Mana per second'] 3000.0\ndata/synth_prices/WAND.csv   ['(15-17)% increased Stun Duration on Enemies'] 2800.0\ndata/synth_prices/QUIVER.csv   ['(21-23)% to Global Critical Strike Multiplier'] 2500.0\ndata/synth_prices/BASE_DAGGER.csv   ['Enemies you Kill Explode, dealing 3% of their Life as Physical Damage'] 2500.0\ndata/synth_prices/RING.csv   ['6% increased Intelligence'] 2500.0\ndata/synth_prices/CLUSTER_JEWEL.csv   ['(4-5)% increased Global Physical Damage'] 2500.0\ndata/synth_prices/CLUSTER_JEWEL.csv   ['(4-5)% to Fire Resistance'] 2500.0\ndata/synth_prices/BASE_STAFF.csv   ['(19-21)% increased Mana Regeneration Rate'] 2300.0\ndata/synth_prices/CLUSTER_JEWEL.csv   ['(1-2)% increased Rarity of Items found'] 2200.0\ndata/synth_prices/TWO_HANDED_AXE.csv   ['(29-32)% increased Cold Damage'] 2200.0\ndata/synth_prices/ONE_HANDED_AXE.csv   ['Adds (18-21) to (31-38) Fire Damage to Spells'] 2000.0\ndata/synth_prices/QUIVER.csv   ['(40-50)% increased Global Critical Strike Chance if Corrupted'] 2000.0\ndata/synth_prices/GLOVES.csv   ['(15-25)% of Physical Damage Converted to Cold Damage'] 2000.0\ndata/synth_prices/TWO_HANDED_SWORD.csv   ['(24-28)% increased Damage with Poison'] 2000.0\ndata/synth_prices/CLUSTER_JEWEL.csv   ['(1-2)% increased Area of Effect'] 2000.0\ndata/synth_prices/TWO_HANDED_MACE.csv   ['(7-9)% increased maximum Energy Shield'] 2000.0\ndata/synth_prices/CLUSTER_JEWEL.csv   ['(5-6)% increased Physical Damage with Daggers'] 2000.0\ndata/synth_prices/WARSTAFF.csv   ['Ignites you inflict deal Damage (30-35)% faster'] 2000.0\ndata/synth_prices/CLUSTER_JEWEL.csv   ['(3-4)% increased Physical Damage with Claws'] 2000.0\ndata/synth_prices/RUNE_DAGGER.csv   ['(28-30)% increased Mana Regeneration Rate'] 2000.0\ndata/synth_prices/WARSTAFF.csv   ['(37-40)% increased Chaos Damage'] 2000.0\ndata/synth_prices/SHIELD.csv   ['(41-55) to Evasion Rating (Local)'] 2000.0\ndata/synth_prices/TWO_HANDED_SWORD.csv   ['(33-36)% increased Cold Damage'] 1800.0\ndata/synth_prices/WARSTAFF.csv   ['(33-36)% increased Lightning Damage'] 1800.0\ndata/synth_prices/WAND.csv   ['(7-9)% increased Evasion Rating'] 1800.0\ndata/synth_prices/CLAW.csv   ['(13-15)% increased Critical Strike Chance'] 1750.0\ndata/synth_prices/CLUSTER_JEWEL.csv   ['(2-3)% increased Damage with Ailments'] 1600.0\ndata/synth_prices/TWO_HANDED_MACE.csv   ['(10-13)% increased maximum Energy Shield'] 1600.0\ndata/synth_prices/GLOVES.csv   ['(15-20) to Armour (Local)'] 1600.0\ndata/synth_prices/SHIELD.csv   ['6% increased Strength'] 1500.0\ndata/synth_prices/WARSTAFF.csv   ['Enemies you Kill Explode, dealing 5% of their Life as Physical Damage'] 1500.0\ndata/synth_prices/SCEPTRE.csv   ['(9-11) Life gained on Kill'] 1500.0\ndata/synth_prices/RUNE_DAGGER.csv   ['Bleeding you inflict deals Damage (15-20)% faster'] 1500.0\ndata/synth_prices/RUNE_DAGGER.csv   ['Adds (2-5) to (56-70) Lightning Damage (Local)'] 1500.0\ndata/synth_prices/BASE_STAFF.csv   ['Enemies you Kill Explode, dealing 5% of their Life as Physical Damage'] 1500.0\ndata/synth_prices/CLUSTER_JEWEL.csv   ['(2-3)% increased Damage over Time'] 1500.0\ndata/synth_prices/SCEPTRE.csv   ['(13-15)% increased Evasion Rating'] 1500.0\ndata/synth_prices/BASE_STAFF.csv   ['(23-25)% increased Physical Damage'] 1400.0\ndata/synth_prices/CLUSTER_JEWEL.csv   ['(2-3)% to Fire Resistance'] 1400.0\ndata/synth_prices/SCEPTRE.csv   ['(21-25)% increased Damage against Abyssal Monsters'] 1300.0\ndata/synth_prices/CLUSTER_JEWEL.csv   ['(1-2)% chance to Poison on Hit'] 1300.0\ndata/synth_prices/CLAW.csv   ['Enemies you Kill Explode, dealing 3% of their Life as Physical Damage'] 1200.0\ndata/synth_prices/GLOVES.csv   ['(15-25)% of Physical Damage Converted to Fire Damage'] 1200.0\ndata/synth_prices/WARSTAFF.csv   ['(29-32)% increased Fire Damage'] 1200.0\ndata/synth_prices/RING.csv   ['1 to Maximum Endurance Charges'] 1100.0\ndata/synth_prices/RUNE_DAGGER.csv   ['(8-9) to all Attributes'] 1100.0\ndata/synth_prices/BASE_DAGGER.csv   ['(13-15)% to Cold Damage over Time Multiplier'] 1100.0\ndata/synth_prices/TWO_HANDED_SWORD.csv   ['Adds (3-7) to (75-88) Lightning Damage to Spells'] 1000.0\ndata/synth_prices/ONE_HANDED_AXE.csv   ['Adds (2-6) to (71-83) Lightning Damage (Local)'] 1000.0\ndata/synth_prices/CLUSTER_JEWEL.csv   ['(1-2)% increased Cast Speed while holding a Shield'] 1000.0\ndata/synth_prices/ONE_HANDED_SWORD.csv   ['(12-14) to Strength'] 1000.0\ndata/synth_prices/BASE_DAGGER.csv   ['(18-20)% to Global Critical Strike Multiplier'] 1000.0\ndata/synth_prices/GLOVES.csv   ['(19-21)% increased Stun and Block Recovery'] 1000.0\ndata/synth_prices/WARSTAFF.csv   ['Adds (26-32) to (46-56) Fire Damage to Spells'] 1000.0\ndata/synth_prices/CLUSTER_JEWEL.csv   ['2% increased Global Critical Strike Chance'] 1000.0\ndata/synth_prices/SHIELD.csv   ['(22-25) to maximum Energy Shield (Local)'] 1000.0\ndata/synth_prices/QUIVER.csv   ['3% increased Attack Speed'] 1000.0\ndata/synth_prices/QUIVER.csv   ['(12-14) to Intelligence'] 1000.0\ndata/synth_prices/SCEPTRE.csv   ['(9-10)% to Lightning Resistance'] 1000.0\ndata/synth_prices/ONE_HANDED_AXE.csv   ['Adds (5-7) to (9-13) Cold Damage to Spells'] 900.0\ndata/synth_prices/BASE_STAFF.csv   ['(20-30)% increased Conductivity Curse Effect'] 800.0\ndata/synth_prices/TWO_HANDED_MACE.csv   ['(22-24)% increased Spell Damage'] 800.0\ndata/synth_prices/BASE_STAFF.csv   ['(11-12)% increased Critical Strike Chance'] 800.0\ndata/synth_prices/RUNE_DAGGER.csv   ['8% to Fire Resistance'] 800.0\ndata/synth_prices/QUIVER.csv   ['(15-17)% to Global Critical Strike Multiplier'] 800.0\ndata/synth_prices/ONE_HANDED_MACE.csv   ['Enemies you Kill Explode, dealing 3% of their Life as Physical Damage'] 800.0\ndata/synth_prices/WAND.csv   ['(18-20) to Dexterity'] 800.0\ndata/synth_prices/ONE_HANDED_AXE.csv   ['(13-15)% increased Evasion Rating'] 700.0\ndata/synth_prices/ONE_HANDED_SWORD.csv   ['Enemies you Kill Explode, dealing 3% of their Life as Physical Damage'] 700.0\ndata/synth_prices/QUIVER.csv   ['Gain (6-8)% of Physical Damage as Extra Fire Damage'] 700.0\ndata/synth_prices/ONE_HANDED_AXE.csv   ['Enemies you Kill Explode, dealing 3% of their Life as Physical Damage'] 700.0\ndata/synth_prices/TWO_HANDED_AXE.csv   ['(6-8) to Strength'] 700.0\ndata/synth_prices/TWO_HANDED_AXE.csv   ['Adds (23-31) to (42-56) Fire Damage (Local)'] 600.0\ndata/synth_prices/QUIVER.csv   ['Bow Attacks fire an additional Arrow'] 600.0\ndata/synth_prices/CLUSTER_JEWEL.csv   ['(1-2)% chance to Shock'] 600.0\ndata/synth_prices/CLUSTER_JEWEL.csv   ['(1-2)% increased Attack Speed with Maces or Sceptres'] 600.0\n"
     ]
    }
   ],
   "source": [
    "\r\n",
    "for _, row in list(df[[\"path\",\"mod_str\", \"price_3\"]].sort_values(\"price_3\", ascending=False).iterrows())[:100]:\r\n",
    "    print(row[\"path\"], row[\"mod_str\"], row[\"price_3\"])"
   ]
  },
  {
   "cell_type": "code",
   "execution_count": 81,
   "metadata": {
    "tags": []
   },
   "outputs": [
    {
     "output_type": "execute_result",
     "data": {
      "text/plain": [
       "99.74789545982883"
      ]
     },
     "metadata": {},
     "execution_count": 81
    }
   ],
   "source": [
    "from itertools import combinations\n",
    "\n",
    "outputs = []\n",
    "for (_, x), (_, y), (_, z) in combinations(df[[\"mod_str\", \"price_2\"]].iterrows(), 3):\n",
    "    outputs.append(max(x[\"price_2\"], y[\"price_2\"],z[\"price_2\"]))\n",
    "\n",
    "np.mean(outputs)"
   ]
  },
  {
   "cell_type": "code",
   "execution_count": 2,
   "metadata": {},
   "outputs": [],
   "source": [
    "values = df[[c for c in df.columns if \"price\" in c]].values"
   ]
  },
  {
   "cell_type": "code",
   "execution_count": 123,
   "metadata": {},
   "outputs": [],
   "source": [
    "values_norm = values / values[:,10][:, None]"
   ]
  },
  {
   "cell_type": "code",
   "execution_count": 3,
   "metadata": {
    "tags": [
     "outputPrepend"
    ]
   },
   "outputs": [
    {
     "output_type": "stream",
     "name": "stderr",
     "text": [
      "\\site-packages\\sklearn\\mixture\\_base.py:148: ConvergenceWarning: Number of distinct clusters (6) found smaller than n_clusters (7). Possibly due to duplicate points in X.\n",
      "  random_state=random_state).fit(X).labels_\n",
      "C:\\Users\\nick\\AppData\\Local\\Programs\\Python\\Python37\\lib\\site-packages\\sklearn\\mixture\\_base.py:148: ConvergenceWarning: Number of distinct clusters (7) found smaller than n_clusters (8). Possibly due to duplicate points in X.\n",
      "  random_state=random_state).fit(X).labels_\n",
      "C:\\Users\\nick\\AppData\\Local\\Programs\\Python\\Python37\\lib\\site-packages\\sklearn\\mixture\\_base.py:148: ConvergenceWarning: Number of distinct clusters (4) found smaller than n_clusters (5). Possibly due to duplicate points in X.\n",
      "  random_state=random_state).fit(X).labels_\n",
      "C:\\Users\\nick\\AppData\\Local\\Programs\\Python\\Python37\\lib\\site-packages\\sklearn\\mixture\\_base.py:148: ConvergenceWarning: Number of distinct clusters (7) found smaller than n_clusters (8). Possibly due to duplicate points in X.\n",
      "  random_state=random_state).fit(X).labels_\n",
      "C:\\Users\\nick\\AppData\\Local\\Programs\\Python\\Python37\\lib\\site-packages\\sklearn\\mixture\\_base.py:148: ConvergenceWarning: Number of distinct clusters (6) found smaller than n_clusters (7). Possibly due to duplicate points in X.\n",
      "  random_state=random_state).fit(X).labels_\n",
      "C:\\Users\\nick\\AppData\\Local\\Programs\\Python\\Python37\\lib\\site-packages\\sklearn\\mixture\\_base.py:148: ConvergenceWarning: Number of distinct clusters (4) found smaller than n_clusters (5). Possibly due to duplicate points in X.\n",
      "  random_state=random_state).fit(X).labels_\n",
      "C:\\Users\\nick\\AppData\\Local\\Programs\\Python\\Python37\\lib\\site-packages\\sklearn\\mixture\\_base.py:148: ConvergenceWarning: Number of distinct clusters (6) found smaller than n_clusters (7). Possibly due to duplicate points in X.\n",
      "  random_state=random_state).fit(X).labels_\n",
      "C:\\Users\\nick\\AppData\\Local\\Programs\\Python\\Python37\\lib\\site-packages\\sklearn\\mixture\\_base.py:148: ConvergenceWarning: Number of distinct clusters (5) found smaller than n_clusters (6). Possibly due to duplicate points in X.\n",
      "  random_state=random_state).fit(X).labels_\n",
      "C:\\Users\\nick\\AppData\\Local\\Programs\\Python\\Python37\\lib\\site-packages\\sklearn\\mixture\\_base.py:148: ConvergenceWarning: Number of distinct clusters (3) found smaller than n_clusters (4). Possibly due to duplicate points in X.\n",
      "  random_state=random_state).fit(X).labels_\n",
      "C:\\Users\\nick\\AppData\\Local\\Programs\\Python\\Python37\\lib\\site-packages\\sklearn\\mixture\\_base.py:148: ConvergenceWarning: Number of distinct clusters (3) found smaller than n_clusters (4). Possibly due to duplicate points in X.\n",
      "  random_state=random_state).fit(X).labels_\n",
      "C:\\Users\\nick\\AppData\\Local\\Programs\\Python\\Python37\\lib\\site-packages\\sklearn\\mixture\\_base.py:148: ConvergenceWarning: Number of distinct clusters (5) found smaller than n_clusters (6). Possibly due to duplicate points in X.\n",
      "  random_state=random_state).fit(X).labels_\n",
      "C:\\Users\\nick\\AppData\\Local\\Programs\\Python\\Python37\\lib\\site-packages\\sklearn\\mixture\\_base.py:148: ConvergenceWarning: Number of distinct clusters (8) found smaller than n_clusters (9). Possibly due to duplicate points in X.\n",
      "  random_state=random_state).fit(X).labels_\n",
      "C:\\Users\\nick\\AppData\\Local\\Programs\\Python\\Python37\\lib\\site-packages\\sklearn\\mixture\\_base.py:148: ConvergenceWarning: Number of distinct clusters (5) found smaller than n_clusters (6). Possibly due to duplicate points in X.\n",
      "  random_state=random_state).fit(X).labels_\n",
      "C:\\Users\\nick\\AppData\\Local\\Programs\\Python\\Python37\\lib\\site-packages\\sklearn\\mixture\\_base.py:148: ConvergenceWarning: Number of distinct clusters (6) found smaller than n_clusters (7). Possibly due to duplicate points in X.\n",
      "  random_state=random_state).fit(X).labels_\n",
      "C:\\Users\\nick\\AppData\\Local\\Programs\\Python\\Python37\\lib\\site-packages\\sklearn\\mixture\\_base.py:148: ConvergenceWarning: Number of distinct clusters (5) found smaller than n_clusters (6). Possibly due to duplicate points in X.\n",
      "  random_state=random_state).fit(X).labels_\n",
      "C:\\Users\\nick\\AppData\\Local\\Programs\\Python\\Python37\\lib\\site-packages\\sklearn\\mixture\\_base.py:148: ConvergenceWarning: Number of distinct clusters (7) found smaller than n_clusters (8). Possibly due to duplicate points in X.\n",
      "  random_state=random_state).fit(X).labels_\n",
      "C:\\Users\\nick\\AppData\\Local\\Programs\\Python\\Python37\\lib\\site-packages\\sklearn\\mixture\\_base.py:148: ConvergenceWarning: Number of distinct clusters (4) found smaller than n_clusters (5). Possibly due to duplicate points in X.\n",
      "  random_state=random_state).fit(X).labels_\n",
      "C:\\Users\\nick\\AppData\\Local\\Programs\\Python\\Python37\\lib\\site-packages\\sklearn\\mixture\\_base.py:148: ConvergenceWarning: Number of distinct clusters (3) found smaller than n_clusters (4). Possibly due to duplicate points in X.\n",
      "  random_state=random_state).fit(X).labels_\n",
      "C:\\Users\\nick\\AppData\\Local\\Programs\\Python\\Python37\\lib\\site-packages\\sklearn\\mixture\\_base.py:148: ConvergenceWarning: Number of distinct clusters (5) found smaller than n_clusters (6). Possibly due to duplicate points in X.\n",
      "  random_state=random_state).fit(X).labels_\n",
      "C:\\Users\\nick\\AppData\\Local\\Programs\\Python\\Python37\\lib\\site-packages\\sklearn\\mixture\\_base.py:148: ConvergenceWarning: Number of distinct clusters (4) found smaller than n_clusters (5). Possibly due to duplicate points in X.\n",
      "  random_state=random_state).fit(X).labels_\n",
      "C:\\Users\\nick\\AppData\\Local\\Programs\\Python\\Python37\\lib\\site-packages\\sklearn\\mixture\\_base.py:148: ConvergenceWarning: Number of distinct clusters (8) found smaller than n_clusters (9). Possibly due to duplicate points in X.\n",
      "  random_state=random_state).fit(X).labels_\n",
      "C:\\Users\\nick\\AppData\\Local\\Programs\\Python\\Python37\\lib\\site-packages\\sklearn\\mixture\\_base.py:148: ConvergenceWarning: Number of distinct clusters (4) found smaller than n_clusters (5). Possibly due to duplicate points in X.\n",
      "  random_state=random_state).fit(X).labels_\n",
      "C:\\Users\\nick\\AppData\\Local\\Programs\\Python\\Python37\\lib\\site-packages\\sklearn\\mixture\\_base.py:148: ConvergenceWarning: Number of distinct clusters (3) found smaller than n_clusters (4). Possibly due to duplicate points in X.\n",
      "  random_state=random_state).fit(X).labels_\n",
      "C:\\Users\\nick\\AppData\\Local\\Programs\\Python\\Python37\\lib\\site-packages\\sklearn\\mixture\\_base.py:148: ConvergenceWarning: Number of distinct clusters (7) found smaller than n_clusters (8). Possibly due to duplicate points in X.\n",
      "  random_state=random_state).fit(X).labels_\n",
      "C:\\Users\\nick\\AppData\\Local\\Programs\\Python\\Python37\\lib\\site-packages\\sklearn\\mixture\\_base.py:148: ConvergenceWarning: Number of distinct clusters (3) found smaller than n_clusters (4). Possibly due to duplicate points in X.\n",
      "  random_state=random_state).fit(X).labels_\n",
      "C:\\Users\\nick\\AppData\\Local\\Programs\\Python\\Python37\\lib\\site-packages\\sklearn\\mixture\\_base.py:148: ConvergenceWarning: Number of distinct clusters (7) found smaller than n_clusters (8). Possibly due to duplicate points in X.\n",
      "  random_state=random_state).fit(X).labels_\n",
      "C:\\Users\\nick\\AppData\\Local\\Programs\\Python\\Python37\\lib\\site-packages\\sklearn\\mixture\\_base.py:148: ConvergenceWarning: Number of distinct clusters (4) found smaller than n_clusters (5). Possibly due to duplicate points in X.\n",
      "  random_state=random_state).fit(X).labels_\n",
      "C:\\Users\\nick\\AppData\\Local\\Programs\\Python\\Python37\\lib\\site-packages\\sklearn\\mixture\\_base.py:148: ConvergenceWarning: Number of distinct clusters (4) found smaller than n_clusters (5). Possibly due to duplicate points in X.\n",
      "  random_state=random_state).fit(X).labels_\n",
      "C:\\Users\\nick\\AppData\\Local\\Programs\\Python\\Python37\\lib\\site-packages\\sklearn\\mixture\\_base.py:148: ConvergenceWarning: Number of distinct clusters (5) found smaller than n_clusters (6). Possibly due to duplicate points in X.\n",
      "  random_state=random_state).fit(X).labels_\n",
      "C:\\Users\\nick\\AppData\\Local\\Programs\\Python\\Python37\\lib\\site-packages\\sklearn\\mixture\\_base.py:148: ConvergenceWarning: Number of distinct clusters (6) found smaller than n_clusters (7). Possibly due to duplicate points in X.\n",
      "  random_state=random_state).fit(X).labels_\n",
      "C:\\Users\\nick\\AppData\\Local\\Programs\\Python\\Python37\\lib\\site-packages\\sklearn\\mixture\\_base.py:148: ConvergenceWarning: Number of distinct clusters (3) found smaller than n_clusters (4). Possibly due to duplicate points in X.\n",
      "  random_state=random_state).fit(X).labels_\n",
      "C:\\Users\\nick\\AppData\\Local\\Programs\\Python\\Python37\\lib\\site-packages\\sklearn\\mixture\\_base.py:148: ConvergenceWarning: Number of distinct clusters (5) found smaller than n_clusters (6). Possibly due to duplicate points in X.\n",
      "  random_state=random_state).fit(X).labels_\n",
      "C:\\Users\\nick\\AppData\\Local\\Programs\\Python\\Python37\\lib\\site-packages\\sklearn\\mixture\\_base.py:148: ConvergenceWarning: Number of distinct clusters (6) found smaller than n_clusters (7). Possibly due to duplicate points in X.\n",
      "  random_state=random_state).fit(X).labels_\n",
      "C:\\Users\\nick\\AppData\\Local\\Programs\\Python\\Python37\\lib\\site-packages\\sklearn\\mixture\\_base.py:148: ConvergenceWarning: Number of distinct clusters (5) found smaller than n_clusters (6). Possibly due to duplicate points in X.\n",
      "  random_state=random_state).fit(X).labels_\n",
      "C:\\Users\\nick\\AppData\\Local\\Programs\\Python\\Python37\\lib\\site-packages\\sklearn\\mixture\\_base.py:148: ConvergenceWarning: Number of distinct clusters (5) found smaller than n_clusters (6). Possibly due to duplicate points in X.\n",
      "  random_state=random_state).fit(X).labels_\n",
      "C:\\Users\\nick\\AppData\\Local\\Programs\\Python\\Python37\\lib\\site-packages\\sklearn\\mixture\\_base.py:148: ConvergenceWarning: Number of distinct clusters (4) found smaller than n_clusters (5). Possibly due to duplicate points in X.\n",
      "  random_state=random_state).fit(X).labels_\n",
      "C:\\Users\\nick\\AppData\\Local\\Programs\\Python\\Python37\\lib\\site-packages\\sklearn\\mixture\\_base.py:148: ConvergenceWarning: Number of distinct clusters (11) found smaller than n_clusters (12). Possibly due to duplicate points in X.\n",
      "  random_state=random_state).fit(X).labels_\n",
      "C:\\Users\\nick\\AppData\\Local\\Programs\\Python\\Python37\\lib\\site-packages\\sklearn\\mixture\\_base.py:148: ConvergenceWarning: Number of distinct clusters (4) found smaller than n_clusters (5). Possibly due to duplicate points in X.\n",
      "  random_state=random_state).fit(X).labels_\n",
      "C:\\Users\\nick\\AppData\\Local\\Programs\\Python\\Python37\\lib\\site-packages\\sklearn\\mixture\\_base.py:148: ConvergenceWarning: Number of distinct clusters (5) found smaller than n_clusters (6). Possibly due to duplicate points in X.\n",
      "  random_state=random_state).fit(X).labels_\n",
      "C:\\Users\\nick\\AppData\\Local\\Programs\\Python\\Python37\\lib\\site-packages\\sklearn\\mixture\\_base.py:148: ConvergenceWarning: Number of distinct clusters (5) found smaller than n_clusters (6). Possibly due to duplicate points in X.\n",
      "  random_state=random_state).fit(X).labels_\n",
      "C:\\Users\\nick\\AppData\\Local\\Programs\\Python\\Python37\\lib\\site-packages\\sklearn\\mixture\\_base.py:148: ConvergenceWarning: Number of distinct clusters (4) found smaller than n_clusters (5). Possibly due to duplicate points in X.\n",
      "  random_state=random_state).fit(X).labels_\n",
      "C:\\Users\\nick\\AppData\\Local\\Programs\\Python\\Python37\\lib\\site-packages\\sklearn\\mixture\\_base.py:148: ConvergenceWarning: Number of distinct clusters (7) found smaller than n_clusters (8). Possibly due to duplicate points in X.\n",
      "  random_state=random_state).fit(X).labels_\n",
      "C:\\Users\\nick\\AppData\\Local\\Programs\\Python\\Python37\\lib\\site-packages\\sklearn\\mixture\\_base.py:148: ConvergenceWarning: Number of distinct clusters (6) found smaller than n_clusters (7). Possibly due to duplicate points in X.\n",
      "  random_state=random_state).fit(X).labels_\n",
      "C:\\Users\\nick\\AppData\\Local\\Programs\\Python\\Python37\\lib\\site-packages\\sklearn\\mixture\\_base.py:148: ConvergenceWarning: Number of distinct clusters (6) found smaller than n_clusters (7). Possibly due to duplicate points in X.\n",
      "  random_state=random_state).fit(X).labels_\n",
      "C:\\Users\\nick\\AppData\\Local\\Programs\\Python\\Python37\\lib\\site-packages\\sklearn\\mixture\\_base.py:148: ConvergenceWarning: Number of distinct clusters (5) found smaller than n_clusters (6). Possibly due to duplicate points in X.\n",
      "  random_state=random_state).fit(X).labels_\n",
      "C:\\Users\\nick\\AppData\\Local\\Programs\\Python\\Python37\\lib\\site-packages\\sklearn\\mixture\\_base.py:148: ConvergenceWarning: Number of distinct clusters (5) found smaller than n_clusters (6). Possibly due to duplicate points in X.\n",
      "  random_state=random_state).fit(X).labels_\n",
      "C:\\Users\\nick\\AppData\\Local\\Programs\\Python\\Python37\\lib\\site-packages\\sklearn\\mixture\\_base.py:148: ConvergenceWarning: Number of distinct clusters (4) found smaller than n_clusters (5). Possibly due to duplicate points in X.\n",
      "  random_state=random_state).fit(X).labels_\n",
      "C:\\Users\\nick\\AppData\\Local\\Programs\\Python\\Python37\\lib\\site-packages\\sklearn\\mixture\\_base.py:148: ConvergenceWarning: Number of distinct clusters (4) found smaller than n_clusters (5). Possibly due to duplicate points in X.\n",
      "  random_state=random_state).fit(X).labels_\n",
      "C:\\Users\\nick\\AppData\\Local\\Programs\\Python\\Python37\\lib\\site-packages\\sklearn\\mixture\\_base.py:148: ConvergenceWarning: Number of distinct clusters (4) found smaller than n_clusters (5). Possibly due to duplicate points in X.\n",
      "  random_state=random_state).fit(X).labels_\n",
      "C:\\Users\\nick\\AppData\\Local\\Programs\\Python\\Python37\\lib\\site-packages\\sklearn\\mixture\\_base.py:148: ConvergenceWarning: Number of distinct clusters (5) found smaller than n_clusters (6). Possibly due to duplicate points in X.\n",
      "  random_state=random_state).fit(X).labels_\n",
      "C:\\Users\\nick\\AppData\\Local\\Programs\\Python\\Python37\\lib\\site-packages\\sklearn\\mixture\\_base.py:148: ConvergenceWarning: Number of distinct clusters (1) found smaller than n_clusters (2). Possibly due to duplicate points in X.\n",
      "  random_state=random_state).fit(X).labels_\n",
      "C:\\Users\\nick\\AppData\\Local\\Programs\\Python\\Python37\\lib\\site-packages\\sklearn\\mixture\\_base.py:148: ConvergenceWarning: Number of distinct clusters (5) found smaller than n_clusters (6). Possibly due to duplicate points in X.\n",
      "  random_state=random_state).fit(X).labels_\n",
      "C:\\Users\\nick\\AppData\\Local\\Programs\\Python\\Python37\\lib\\site-packages\\sklearn\\mixture\\_base.py:148: ConvergenceWarning: Number of distinct clusters (3) found smaller than n_clusters (4). Possibly due to duplicate points in X.\n",
      "  random_state=random_state).fit(X).labels_\n",
      "C:\\Users\\nick\\AppData\\Local\\Programs\\Python\\Python37\\lib\\site-packages\\sklearn\\mixture\\_base.py:148: ConvergenceWarning: Number of distinct clusters (4) found smaller than n_clusters (5). Possibly due to duplicate points in X.\n",
      "  random_state=random_state).fit(X).labels_\n",
      "C:\\Users\\nick\\AppData\\Local\\Programs\\Python\\Python37\\lib\\site-packages\\sklearn\\mixture\\_base.py:148: ConvergenceWarning: Number of distinct clusters (5) found smaller than n_clusters (6). Possibly due to duplicate points in X.\n",
      "  random_state=random_state).fit(X).labels_\n",
      "C:\\Users\\nick\\AppData\\Local\\Programs\\Python\\Python37\\lib\\site-packages\\sklearn\\mixture\\_base.py:148: ConvergenceWarning: Number of distinct clusters (6) found smaller than n_clusters (7). Possibly due to duplicate points in X.\n",
      "  random_state=random_state).fit(X).labels_\n",
      "C:\\Users\\nick\\AppData\\Local\\Programs\\Python\\Python37\\lib\\site-packages\\sklearn\\mixture\\_base.py:148: ConvergenceWarning: Number of distinct clusters (6) found smaller than n_clusters (7). Possibly due to duplicate points in X.\n",
      "  random_state=random_state).fit(X).labels_\n",
      "C:\\Users\\nick\\AppData\\Local\\Programs\\Python\\Python37\\lib\\site-packages\\sklearn\\mixture\\_base.py:148: ConvergenceWarning: Number of distinct clusters (4) found smaller than n_clusters (5). Possibly due to duplicate points in X.\n",
      "  random_state=random_state).fit(X).labels_\n",
      "C:\\Users\\nick\\AppData\\Local\\Programs\\Python\\Python37\\lib\\site-packages\\sklearn\\mixture\\_base.py:148: ConvergenceWarning: Number of distinct clusters (4) found smaller than n_clusters (5). Possibly due to duplicate points in X.\n",
      "  random_state=random_state).fit(X).labels_\n",
      "C:\\Users\\nick\\AppData\\Local\\Programs\\Python\\Python37\\lib\\site-packages\\sklearn\\mixture\\_base.py:148: ConvergenceWarning: Number of distinct clusters (4) found smaller than n_clusters (5). Possibly due to duplicate points in X.\n",
      "  random_state=random_state).fit(X).labels_\n",
      "C:\\Users\\nick\\AppData\\Local\\Programs\\Python\\Python37\\lib\\site-packages\\sklearn\\mixture\\_base.py:148: ConvergenceWarning: Number of distinct clusters (5) found smaller than n_clusters (6). Possibly due to duplicate points in X.\n",
      "  random_state=random_state).fit(X).labels_\n",
      "C:\\Users\\nick\\AppData\\Local\\Programs\\Python\\Python37\\lib\\site-packages\\sklearn\\mixture\\_base.py:148: ConvergenceWarning: Number of distinct clusters (8) found smaller than n_clusters (9). Possibly due to duplicate points in X.\n",
      "  random_state=random_state).fit(X).labels_\n",
      "C:\\Users\\nick\\AppData\\Local\\Programs\\Python\\Python37\\lib\\site-packages\\sklearn\\mixture\\_base.py:148: ConvergenceWarning: Number of distinct clusters (4) found smaller than n_clusters (5). Possibly due to duplicate points in X.\n",
      "  random_state=random_state).fit(X).labels_\n",
      "C:\\Users\\nick\\AppData\\Local\\Programs\\Python\\Python37\\lib\\site-packages\\sklearn\\mixture\\_base.py:148: ConvergenceWarning: Number of distinct clusters (7) found smaller than n_clusters (8). Possibly due to duplicate points in X.\n",
      "  random_state=random_state).fit(X).labels_\n",
      "C:\\Users\\nick\\AppData\\Local\\Programs\\Python\\Python37\\lib\\site-packages\\sklearn\\mixture\\_base.py:148: ConvergenceWarning: Number of distinct clusters (6) found smaller than n_clusters (7). Possibly due to duplicate points in X.\n",
      "  random_state=random_state).fit(X).labels_\n",
      "C:\\Users\\nick\\AppData\\Local\\Programs\\Python\\Python37\\lib\\site-packages\\sklearn\\mixture\\_base.py:148: ConvergenceWarning: Number of distinct clusters (4) found smaller than n_clusters (5). Possibly due to duplicate points in X.\n",
      "  random_state=random_state).fit(X).labels_\n",
      "C:\\Users\\nick\\AppData\\Local\\Programs\\Python\\Python37\\lib\\site-packages\\sklearn\\mixture\\_base.py:148: ConvergenceWarning: Number of distinct clusters (4) found smaller than n_clusters (5). Possibly due to duplicate points in X.\n",
      "  random_state=random_state).fit(X).labels_\n",
      "C:\\Users\\nick\\AppData\\Local\\Programs\\Python\\Python37\\lib\\site-packages\\sklearn\\mixture\\_base.py:148: ConvergenceWarning: Number of distinct clusters (3) found smaller than n_clusters (4). Possibly due to duplicate points in X.\n",
      "  random_state=random_state).fit(X).labels_\n",
      "C:\\Users\\nick\\AppData\\Local\\Programs\\Python\\Python37\\lib\\site-packages\\sklearn\\mixture\\_base.py:148: ConvergenceWarning: Number of distinct clusters (5) found smaller than n_clusters (6). Possibly due to duplicate points in X.\n",
      "  random_state=random_state).fit(X).labels_\n",
      "C:\\Users\\nick\\AppData\\Local\\Programs\\Python\\Python37\\lib\\site-packages\\sklearn\\mixture\\_base.py:148: ConvergenceWarning: Number of distinct clusters (6) found smaller than n_clusters (7). Possibly due to duplicate points in X.\n",
      "  random_state=random_state).fit(X).labels_\n",
      "C:\\Users\\nick\\AppData\\Local\\Programs\\Python\\Python37\\lib\\site-packages\\sklearn\\mixture\\_base.py:148: ConvergenceWarning: Number of distinct clusters (1) found smaller than n_clusters (2). Possibly due to duplicate points in X.\n",
      "  random_state=random_state).fit(X).labels_\n",
      "C:\\Users\\nick\\AppData\\Local\\Programs\\Python\\Python37\\lib\\site-packages\\sklearn\\mixture\\_base.py:148: ConvergenceWarning: Number of distinct clusters (2) found smaller than n_clusters (3). Possibly due to duplicate points in X.\n",
      "  random_state=random_state).fit(X).labels_\n",
      "C:\\Users\\nick\\AppData\\Local\\Programs\\Python\\Python37\\lib\\site-packages\\sklearn\\mixture\\_base.py:148: ConvergenceWarning: Number of distinct clusters (4) found smaller than n_clusters (5). Possibly due to duplicate points in X.\n",
      "  random_state=random_state).fit(X).labels_\n",
      "C:\\Users\\nick\\AppData\\Local\\Programs\\Python\\Python37\\lib\\site-packages\\sklearn\\mixture\\_base.py:148: ConvergenceWarning: Number of distinct clusters (4) found smaller than n_clusters (5). Possibly due to duplicate points in X.\n",
      "  random_state=random_state).fit(X).labels_\n"
     ]
    }
   ],
   "source": [
    "from PoEPrice import find_price\n",
    "import numpy as np\n",
    "predicted_prices = []\n",
    "for idx in range(values.shape[0]):\n",
    "    row = values[idx]\n",
    "    row = row[~np.isnan(row)]\n",
    "    if len(row) > 0:\n",
    "        predicted_prices.append(find_price(row))\n",
    "    else:\n",
    "        predicted_prices.append(0)"
   ]
  },
  {
   "cell_type": "code",
   "execution_count": 6,
   "metadata": {},
   "outputs": [
    {
     "output_type": "execute_result",
     "data": {
      "text/plain": [
       "(5555, 100)"
      ]
     },
     "metadata": {},
     "execution_count": 6
    }
   ],
   "source": [
    "values.shape"
   ]
  },
  {
   "cell_type": "code",
   "execution_count": 1,
   "metadata": {
    "tags": [
     "outputPrepend"
    ]
   },
   "outputs": [
    {
     "output_type": "stream",
     "name": "stdout",
     "text": [
      "ib\\site-packages\\sklearn\\mixture\\_base.py:148: ConvergenceWarning: Number of distinct clusters (3) found smaller than n_clusters (4). Possibly due to duplicate points in X.\n",
      "  random_state=random_state).fit(X).labels_\n",
      "C:\\Users\\nick\\AppData\\Local\\Programs\\Python\\Python37\\lib\\site-packages\\sklearn\\mixture\\_base.py:148: ConvergenceWarning: Number of distinct clusters (4) found smaller than n_clusters (5). Possibly due to duplicate points in X.\n",
      "  random_state=random_state).fit(X).labels_\n",
      "C:\\Users\\nick\\AppData\\Local\\Programs\\Python\\Python37\\lib\\site-packages\\sklearn\\mixture\\_base.py:148: ConvergenceWarning: Number of distinct clusters (3) found smaller than n_clusters (4). Possibly due to duplicate points in X.\n",
      "  random_state=random_state).fit(X).labels_\n",
      "C:\\Users\\nick\\AppData\\Local\\Programs\\Python\\Python37\\lib\\site-packages\\sklearn\\mixture\\_base.py:148: ConvergenceWarning: Number of distinct clusters (4) found smaller than n_clusters (5). Possibly due to duplicate points in X.\n",
      "  random_state=random_state).fit(X).labels_\n",
      "C:\\Users\\nick\\AppData\\Local\\Programs\\Python\\Python37\\lib\\site-packages\\sklearn\\mixture\\_base.py:148: ConvergenceWarning: Number of distinct clusters (8) found smaller than n_clusters (9). Possibly due to duplicate points in X.\n",
      "  random_state=random_state).fit(X).labels_\n",
      "C:\\Users\\nick\\AppData\\Local\\Programs\\Python\\Python37\\lib\\site-packages\\sklearn\\mixture\\_base.py:148: ConvergenceWarning: Number of distinct clusters (4) found smaller than n_clusters (5). Possibly due to duplicate points in X.\n",
      "  random_state=random_state).fit(X).labels_\n",
      "C:\\Users\\nick\\AppData\\Local\\Programs\\Python\\Python37\\lib\\site-packages\\sklearn\\mixture\\_base.py:148: ConvergenceWarning: Number of distinct clusters (6) found smaller than n_clusters (7). Possibly due to duplicate points in X.\n",
      "  random_state=random_state).fit(X).labels_\n",
      "C:\\Users\\nick\\AppData\\Local\\Programs\\Python\\Python37\\lib\\site-packages\\sklearn\\mixture\\_base.py:148: ConvergenceWarning: Number of distinct clusters (7) found smaller than n_clusters (8). Possibly due to duplicate points in X.\n",
      "  random_state=random_state).fit(X).labels_\n",
      "C:\\Users\\nick\\AppData\\Local\\Programs\\Python\\Python37\\lib\\site-packages\\sklearn\\mixture\\_base.py:148: ConvergenceWarning: Number of distinct clusters (6) found smaller than n_clusters (7). Possibly due to duplicate points in X.\n",
      "  random_state=random_state).fit(X).labels_\n",
      "C:\\Users\\nick\\AppData\\Local\\Programs\\Python\\Python37\\lib\\site-packages\\sklearn\\mixture\\_base.py:148: ConvergenceWarning: Number of distinct clusters (7) found smaller than n_clusters (8). Possibly due to duplicate points in X.\n",
      "  random_state=random_state).fit(X).labels_\n",
      "C:\\Users\\nick\\AppData\\Local\\Programs\\Python\\Python37\\lib\\site-packages\\sklearn\\mixture\\_base.py:148: ConvergenceWarning: Number of distinct clusters (7) found smaller than n_clusters (8). Possibly due to duplicate points in X.\n",
      "  random_state=random_state).fit(X).labels_\n",
      "C:\\Users\\nick\\AppData\\Local\\Programs\\Python\\Python37\\lib\\site-packages\\sklearn\\mixture\\_base.py:148: ConvergenceWarning: Number of distinct clusters (5) found smaller than n_clusters (6). Possibly due to duplicate points in X.\n",
      "  random_state=random_state).fit(X).labels_\n",
      "C:\\Users\\nick\\AppData\\Local\\Programs\\Python\\Python37\\lib\\site-packages\\sklearn\\mixture\\_base.py:148: ConvergenceWarning: Number of distinct clusters (7) found smaller than n_clusters (8). Possibly due to duplicate points in X.\n",
      "  random_state=random_state).fit(X).labels_\n",
      "C:\\Users\\nick\\AppData\\Local\\Programs\\Python\\Python37\\lib\\site-packages\\sklearn\\mixture\\_base.py:148: ConvergenceWarning: Number of distinct clusters (7) found smaller than n_clusters (8). Possibly due to duplicate points in X.\n",
      "  random_state=random_state).fit(X).labels_\n",
      "C:\\Users\\nick\\AppData\\Local\\Programs\\Python\\Python37\\lib\\site-packages\\sklearn\\mixture\\_base.py:148: ConvergenceWarning: Number of distinct clusters (3) found smaller than n_clusters (4). Possibly due to duplicate points in X.\n",
      "  random_state=random_state).fit(X).labels_\n",
      "C:\\Users\\nick\\AppData\\Local\\Programs\\Python\\Python37\\lib\\site-packages\\sklearn\\mixture\\_base.py:148: ConvergenceWarning: Number of distinct clusters (3) found smaller than n_clusters (4). Possibly due to duplicate points in X.\n",
      "  random_state=random_state).fit(X).labels_\n",
      "C:\\Users\\nick\\AppData\\Local\\Programs\\Python\\Python37\\lib\\site-packages\\sklearn\\mixture\\_base.py:148: ConvergenceWarning: Number of distinct clusters (4) found smaller than n_clusters (5). Possibly due to duplicate points in X.\n",
      "  random_state=random_state).fit(X).labels_\n",
      "C:\\Users\\nick\\AppData\\Local\\Programs\\Python\\Python37\\lib\\site-packages\\sklearn\\mixture\\_base.py:148: ConvergenceWarning: Number of distinct clusters (3) found smaller than n_clusters (4). Possibly due to duplicate points in X.\n",
      "  random_state=random_state).fit(X).labels_\n",
      "C:\\Users\\nick\\AppData\\Local\\Programs\\Python\\Python37\\lib\\site-packages\\sklearn\\mixture\\_base.py:148: ConvergenceWarning: Number of distinct clusters (5) found smaller than n_clusters (6). Possibly due to duplicate points in X.\n",
      "  random_state=random_state).fit(X).labels_\n",
      "C:\\Users\\nick\\AppData\\Local\\Programs\\Python\\Python37\\lib\\site-packages\\sklearn\\mixture\\_base.py:148: ConvergenceWarning: Number of distinct clusters (3) found smaller than n_clusters (4). Possibly due to duplicate points in X.\n",
      "  random_state=random_state).fit(X).labels_\n",
      "C:\\Users\\nick\\AppData\\Local\\Programs\\Python\\Python37\\lib\\site-packages\\sklearn\\mixture\\_base.py:148: ConvergenceWarning: Number of distinct clusters (3) found smaller than n_clusters (4). Possibly due to duplicate points in X.\n",
      "  random_state=random_state).fit(X).labels_\n",
      "C:\\Users\\nick\\AppData\\Local\\Programs\\Python\\Python37\\lib\\site-packages\\sklearn\\mixture\\_base.py:148: ConvergenceWarning: Number of distinct clusters (4) found smaller than n_clusters (5). Possibly due to duplicate points in X.\n",
      "  random_state=random_state).fit(X).labels_\n",
      "C:\\Users\\nick\\AppData\\Local\\Programs\\Python\\Python37\\lib\\site-packages\\sklearn\\mixture\\_base.py:148: ConvergenceWarning: Number of distinct clusters (6) found smaller than n_clusters (7). Possibly due to duplicate points in X.\n",
      "  random_state=random_state).fit(X).labels_\n",
      "C:\\Users\\nick\\AppData\\Local\\Programs\\Python\\Python37\\lib\\site-packages\\sklearn\\mixture\\_base.py:148: ConvergenceWarning: Number of distinct clusters (3) found smaller than n_clusters (4). Possibly due to duplicate points in X.\n",
      "  random_state=random_state).fit(X).labels_\n",
      "C:\\Users\\nick\\AppData\\Local\\Programs\\Python\\Python37\\lib\\site-packages\\sklearn\\mixture\\_base.py:148: ConvergenceWarning: Number of distinct clusters (5) found smaller than n_clusters (6). Possibly due to duplicate points in X.\n",
      "  random_state=random_state).fit(X).labels_\n",
      "C:\\Users\\nick\\AppData\\Local\\Programs\\Python\\Python37\\lib\\site-packages\\sklearn\\mixture\\_base.py:148: ConvergenceWarning: Number of distinct clusters (4) found smaller than n_clusters (5). Possibly due to duplicate points in X.\n",
      "  random_state=random_state).fit(X).labels_\n",
      "C:\\Users\\nick\\AppData\\Local\\Programs\\Python\\Python37\\lib\\site-packages\\sklearn\\mixture\\_base.py:148: ConvergenceWarning: Number of distinct clusters (3) found smaller than n_clusters (4). Possibly due to duplicate points in X.\n",
      "  random_state=random_state).fit(X).labels_\n",
      "C:\\Users\\nick\\AppData\\Local\\Programs\\Python\\Python37\\lib\\site-packages\\sklearn\\mixture\\_base.py:148: ConvergenceWarning: Number of distinct clusters (5) found smaller than n_clusters (6). Possibly due to duplicate points in X.\n",
      "  random_state=random_state).fit(X).labels_\n",
      "C:\\Users\\nick\\AppData\\Local\\Programs\\Python\\Python37\\lib\\site-packages\\sklearn\\mixture\\_base.py:148: ConvergenceWarning: Number of distinct clusters (3) found smaller than n_clusters (4). Possibly due to duplicate points in X.\n",
      "  random_state=random_state).fit(X).labels_\n",
      "C:\\Users\\nick\\AppData\\Local\\Programs\\Python\\Python37\\lib\\site-packages\\sklearn\\mixture\\_base.py:148: ConvergenceWarning: Number of distinct clusters (2) found smaller than n_clusters (3). Possibly due to duplicate points in X.\n",
      "  random_state=random_state).fit(X).labels_\n",
      "C:\\Users\\nick\\AppData\\Local\\Programs\\Python\\Python37\\lib\\site-packages\\sklearn\\mixture\\_base.py:148: ConvergenceWarning: Number of distinct clusters (3) found smaller than n_clusters (4). Possibly due to duplicate points in X.\n",
      "  random_state=random_state).fit(X).labels_\n",
      "C:\\Users\\nick\\AppData\\Local\\Programs\\Python\\Python37\\lib\\site-packages\\sklearn\\mixture\\_base.py:148: ConvergenceWarning: Number of distinct clusters (3) found smaller than n_clusters (4). Possibly due to duplicate points in X.\n",
      "  random_state=random_state).fit(X).labels_\n",
      "C:\\Users\\nick\\AppData\\Local\\Programs\\Python\\Python37\\lib\\site-packages\\sklearn\\mixture\\_base.py:148: ConvergenceWarning: Number of distinct clusters (3) found smaller than n_clusters (4). Possibly due to duplicate points in X.\n",
      "  random_state=random_state).fit(X).labels_\n",
      "C:\\Users\\nick\\AppData\\Local\\Programs\\Python\\Python37\\lib\\site-packages\\sklearn\\mixture\\_base.py:148: ConvergenceWarning: Number of distinct clusters (2) found smaller than n_clusters (3). Possibly due to duplicate points in X.\n",
      "  random_state=random_state).fit(X).labels_\n",
      "C:\\Users\\nick\\AppData\\Local\\Programs\\Python\\Python37\\lib\\site-packages\\sklearn\\mixture\\_base.py:148: ConvergenceWarning: Number of distinct clusters (4) found smaller than n_clusters (5). Possibly due to duplicate points in X.\n",
      "  random_state=random_state).fit(X).labels_\n",
      "C:\\Users\\nick\\AppData\\Local\\Programs\\Python\\Python37\\lib\\site-packages\\sklearn\\mixture\\_base.py:148: ConvergenceWarning: Number of distinct clusters (6) found smaller than n_clusters (7). Possibly due to duplicate points in X.\n",
      "  random_state=random_state).fit(X).labels_\n",
      "C:\\Users\\nick\\AppData\\Local\\Programs\\Python\\Python37\\lib\\site-packages\\sklearn\\mixture\\_base.py:148: ConvergenceWarning: Number of distinct clusters (4) found smaller than n_clusters (5). Possibly due to duplicate points in X.\n",
      "  random_state=random_state).fit(X).labels_\n",
      "C:\\Users\\nick\\AppData\\Local\\Programs\\Python\\Python37\\lib\\site-packages\\sklearn\\mixture\\_base.py:148: ConvergenceWarning: Number of distinct clusters (7) found smaller than n_clusters (8). Possibly due to duplicate points in X.\n",
      "  random_state=random_state).fit(X).labels_\n",
      "C:\\Users\\nick\\AppData\\Local\\Programs\\Python\\Python37\\lib\\site-packages\\sklearn\\mixture\\_base.py:148: ConvergenceWarning: Number of distinct clusters (7) found smaller than n_clusters (8). Possibly due to duplicate points in X.\n",
      "  random_state=random_state).fit(X).labels_\n",
      "C:\\Users\\nick\\AppData\\Local\\Programs\\Python\\Python37\\lib\\site-packages\\sklearn\\mixture\\_base.py:148: ConvergenceWarning: Number of distinct clusters (7) found smaller than n_clusters (8). Possibly due to duplicate points in X.\n",
      "  random_state=random_state).fit(X).labels_\n",
      "C:\\Users\\nick\\AppData\\Local\\Programs\\Python\\Python37\\lib\\site-packages\\sklearn\\mixture\\_base.py:148: ConvergenceWarning: Number of distinct clusters (7) found smaller than n_clusters (8). Possibly due to duplicate points in X.\n",
      "  random_state=random_state).fit(X).labels_\n",
      "C:\\Users\\nick\\AppData\\Local\\Programs\\Python\\Python37\\lib\\site-packages\\sklearn\\mixture\\_base.py:148: ConvergenceWarning: Number of distinct clusters (7) found smaller than n_clusters (8). Possibly due to duplicate points in X.\n",
      "  random_state=random_state).fit(X).labels_\n",
      "C:\\Users\\nick\\AppData\\Local\\Programs\\Python\\Python37\\lib\\site-packages\\sklearn\\mixture\\_base.py:148: ConvergenceWarning: Number of distinct clusters (5) found smaller than n_clusters (6). Possibly due to duplicate points in X.\n",
      "  random_state=random_state).fit(X).labels_\n",
      "C:\\Users\\nick\\AppData\\Local\\Programs\\Python\\Python37\\lib\\site-packages\\sklearn\\mixture\\_base.py:148: ConvergenceWarning: Number of distinct clusters (4) found smaller than n_clusters (5). Possibly due to duplicate points in X.\n",
      "  random_state=random_state).fit(X).labels_\n",
      "C:\\Users\\nick\\AppData\\Local\\Programs\\Python\\Python37\\lib\\site-packages\\sklearn\\mixture\\_base.py:148: ConvergenceWarning: Number of distinct clusters (5) found smaller than n_clusters (6). Possibly due to duplicate points in X.\n",
      "  random_state=random_state).fit(X).labels_\n",
      "C:\\Users\\nick\\AppData\\Local\\Programs\\Python\\Python37\\lib\\site-packages\\sklearn\\mixture\\_base.py:148: ConvergenceWarning: Number of distinct clusters (6) found smaller than n_clusters (7). Possibly due to duplicate points in X.\n",
      "  random_state=random_state).fit(X).labels_\n",
      "C:\\Users\\nick\\AppData\\Local\\Programs\\Python\\Python37\\lib\\site-packages\\sklearn\\mixture\\_base.py:148: ConvergenceWarning: Number of distinct clusters (3) found smaller than n_clusters (4). Possibly due to duplicate points in X.\n",
      "  random_state=random_state).fit(X).labels_\n",
      "C:\\Users\\nick\\AppData\\Local\\Programs\\Python\\Python37\\lib\\site-packages\\sklearn\\mixture\\_base.py:148: ConvergenceWarning: Number of distinct clusters (3) found smaller than n_clusters (4). Possibly due to duplicate points in X.\n",
      "  random_state=random_state).fit(X).labels_\n",
      "C:\\Users\\nick\\AppData\\Local\\Programs\\Python\\Python37\\lib\\site-packages\\sklearn\\mixture\\_base.py:148: ConvergenceWarning: Number of distinct clusters (7) found smaller than n_clusters (8). Possibly due to duplicate points in X.\n",
      "  random_state=random_state).fit(X).labels_\n",
      "C:\\Users\\nick\\AppData\\Local\\Programs\\Python\\Python37\\lib\\site-packages\\sklearn\\mixture\\_base.py:148: ConvergenceWarning: Number of distinct clusters (3) found smaller than n_clusters (4). Possibly due to duplicate points in X.\n",
      "  random_state=random_state).fit(X).labels_\n",
      "C:\\Users\\nick\\AppData\\Local\\Programs\\Python\\Python37\\lib\\site-packages\\sklearn\\mixture\\_base.py:148: ConvergenceWarning: Number of distinct clusters (4) found smaller than n_clusters (5). Possibly due to duplicate points in X.\n",
      "  random_state=random_state).fit(X).labels_\n",
      "C:\\Users\\nick\\AppData\\Local\\Programs\\Python\\Python37\\lib\\site-packages\\sklearn\\mixture\\_base.py:148: ConvergenceWarning: Number of distinct clusters (3) found smaller than n_clusters (4). Possibly due to duplicate points in X.\n",
      "  random_state=random_state).fit(X).labels_\n",
      "C:\\Users\\nick\\AppData\\Local\\Programs\\Python\\Python37\\lib\\site-packages\\sklearn\\mixture\\_base.py:148: ConvergenceWarning: Number of distinct clusters (6) found smaller than n_clusters (7). Possibly due to duplicate points in X.\n",
      "  random_state=random_state).fit(X).labels_\n",
      "C:\\Users\\nick\\AppData\\Local\\Programs\\Python\\Python37\\lib\\site-packages\\sklearn\\mixture\\_base.py:148: ConvergenceWarning: Number of distinct clusters (5) found smaller than n_clusters (6). Possibly due to duplicate points in X.\n",
      "  random_state=random_state).fit(X).labels_\n",
      "C:\\Users\\nick\\AppData\\Local\\Programs\\Python\\Python37\\lib\\site-packages\\sklearn\\mixture\\_base.py:148: ConvergenceWarning: Number of distinct clusters (6) found smaller than n_clusters (7). Possibly due to duplicate points in X.\n",
      "  random_state=random_state).fit(X).labels_\n",
      "C:\\Users\\nick\\AppData\\Local\\Programs\\Python\\Python37\\lib\\site-packages\\sklearn\\mixture\\_base.py:148: ConvergenceWarning: Number of distinct clusters (6) found smaller than n_clusters (7). Possibly due to duplicate points in X.\n",
      "  random_state=random_state).fit(X).labels_\n",
      "C:\\Users\\nick\\AppData\\Local\\Programs\\Python\\Python37\\lib\\site-packages\\sklearn\\mixture\\_base.py:148: ConvergenceWarning: Number of distinct clusters (5) found smaller than n_clusters (6). Possibly due to duplicate points in X.\n",
      "  random_state=random_state).fit(X).labels_\n",
      "C:\\Users\\nick\\AppData\\Local\\Programs\\Python\\Python37\\lib\\site-packages\\sklearn\\mixture\\_base.py:148: ConvergenceWarning: Number of distinct clusters (5) found smaller than n_clusters (6). Possibly due to duplicate points in X.\n",
      "  random_state=random_state).fit(X).labels_\n",
      "C:\\Users\\nick\\AppData\\Local\\Programs\\Python\\Python37\\lib\\site-packages\\sklearn\\mixture\\_base.py:148: ConvergenceWarning: Number of distinct clusters (5) found smaller than n_clusters (6). Possibly due to duplicate points in X.\n",
      "  random_state=random_state).fit(X).labels_\n",
      "C:\\Users\\nick\\AppData\\Local\\Programs\\Python\\Python37\\lib\\site-packages\\sklearn\\mixture\\_base.py:148: ConvergenceWarning: Number of distinct clusters (5) found smaller than n_clusters (6). Possibly due to duplicate points in X.\n",
      "  random_state=random_state).fit(X).labels_\n",
      "C:\\Users\\nick\\AppData\\Local\\Programs\\Python\\Python37\\lib\\site-packages\\sklearn\\mixture\\_base.py:148: ConvergenceWarning: Number of distinct clusters (5) found smaller than n_clusters (6). Possibly due to duplicate points in X.\n",
      "  random_state=random_state).fit(X).labels_\n",
      "C:\\Users\\nick\\AppData\\Local\\Programs\\Python\\Python37\\lib\\site-packages\\sklearn\\mixture\\_base.py:148: ConvergenceWarning: Number of distinct clusters (2) found smaller than n_clusters (3). Possibly due to duplicate points in X.\n",
      "  random_state=random_state).fit(X).labels_\n",
      "C:\\Users\\nick\\AppData\\Local\\Programs\\Python\\Python37\\lib\\site-packages\\sklearn\\mixture\\_base.py:148: ConvergenceWarning: Number of distinct clusters (1) found smaller than n_clusters (2). Possibly due to duplicate points in X.\n",
      "  random_state=random_state).fit(X).labels_\n",
      "C:\\Users\\nick\\AppData\\Local\\Programs\\Python\\Python37\\lib\\site-packages\\sklearn\\mixture\\_base.py:148: ConvergenceWarning: Number of distinct clusters (4) found smaller than n_clusters (5). Possibly due to duplicate points in X.\n",
      "  random_state=random_state).fit(X).labels_\n",
      "C:\\Users\\nick\\AppData\\Local\\Programs\\Python\\Python37\\lib\\site-packages\\sklearn\\mixture\\_base.py:148: ConvergenceWarning: Number of distinct clusters (6) found smaller than n_clusters (7). Possibly due to duplicate points in X.\n",
      "  random_state=random_state).fit(X).labels_\n",
      "C:\\Users\\nick\\AppData\\Local\\Programs\\Python\\Python37\\lib\\site-packages\\sklearn\\mixture\\_base.py:148: ConvergenceWarning: Number of distinct clusters (1) found smaller than n_clusters (2). Possibly due to duplicate points in X.\n",
      "  random_state=random_state).fit(X).labels_\n",
      "C:\\Users\\nick\\AppData\\Local\\Programs\\Python\\Python37\\lib\\site-packages\\sklearn\\mixture\\_base.py:148: ConvergenceWarning: Number of distinct clusters (1) found smaller than n_clusters (2). Possibly due to duplicate points in X.\n",
      "  random_state=random_state).fit(X).labels_\n",
      "C:\\Users\\nick\\AppData\\Local\\Programs\\Python\\Python37\\lib\\site-packages\\sklearn\\mixture\\_base.py:148: ConvergenceWarning: Number of distinct clusters (6) found smaller than n_clusters (7). Possibly due to duplicate points in X.\n",
      "  random_state=random_state).fit(X).labels_\n",
      "C:\\Users\\nick\\AppData\\Local\\Programs\\Python\\Python37\\lib\\site-packages\\sklearn\\mixture\\_base.py:148: ConvergenceWarning: Number of distinct clusters (3) found smaller than n_clusters (4). Possibly due to duplicate points in X.\n",
      "  random_state=random_state).fit(X).labels_\n",
      "C:\\Users\\nick\\AppData\\Local\\Programs\\Python\\Python37\\lib\\site-packages\\sklearn\\mixture\\_base.py:148: ConvergenceWarning: Number of distinct clusters (6) found smaller than n_clusters (7). Possibly due to duplicate points in X.\n",
      "  random_state=random_state).fit(X).labels_\n",
      "C:\\Users\\nick\\AppData\\Local\\Programs\\Python\\Python37\\lib\\site-packages\\sklearn\\mixture\\_base.py:148: ConvergenceWarning: Number of distinct clusters (1) found smaller than n_clusters (2). Possibly due to duplicate points in X.\n",
      "  random_state=random_state).fit(X).labels_\n",
      "C:\\Users\\nick\\AppData\\Local\\Programs\\Python\\Python37\\lib\\site-packages\\sklearn\\mixture\\_base.py:148: ConvergenceWarning: Number of distinct clusters (5) found smaller than n_clusters (6). Possibly due to duplicate points in X.\n",
      "  random_state=random_state).fit(X).labels_\n",
      "C:\\Users\\nick\\AppData\\Local\\Programs\\Python\\Python37\\lib\\site-packages\\sklearn\\mixture\\_base.py:148: ConvergenceWarning: Number of distinct clusters (4) found smaller than n_clusters (5). Possibly due to duplicate points in X.\n",
      "  random_state=random_state).fit(X).labels_\n",
      "C:\\Users\\nick\\AppData\\Local\\Programs\\Python\\Python37\\lib\\site-packages\\sklearn\\mixture\\_base.py:148: ConvergenceWarning: Number of distinct clusters (4) found smaller than n_clusters (5). Possibly due to duplicate points in X.\n",
      "  random_state=random_state).fit(X).labels_\n"
     ]
    }
   ],
   "source": [
    "\n",
    "from collections import defaultdict\n",
    "item_to_corrupt_to_price = defaultdict(lambda : defaultdict(list))\n",
    "\n",
    "import pandas as pd\n",
    "\n",
    "base_dir = \"data/frac_prices/\"\n",
    "paths = [f\"{base_dir}{path}\" for path in os.listdir(base_dir)]\n",
    "# paths = [\"data/watchers_eyes.csv\"]\n",
    "dfs = []\n",
    "for path in paths:\n",
    "    try:\n",
    "        read_df = pd.read_csv(path)\n",
    "        read_df.insert(0,\"path\",path)\n",
    "        dfs.append(read_df)\n",
    "    except Exception as e:\n",
    "        print(e)\n",
    "        print(path)\n",
    "    \n",
    "df = pd.concat(dfs, ignore_index=True)\n",
    "print(df)\n",
    "  \n",
    "values = df[[c for c in df.columns if \"price\" in c]].values\n",
    "\n",
    "from PoEPrice import find_price\n",
    "import numpy as np\n",
    "predicted_prices = []\n",
    "for idx in range(values.shape[0]):\n",
    "    row = values[idx]\n",
    "    row = row[~np.isnan(row)]\n",
    "    if len(row) > 0:\n",
    "        predicted_prices.append(find_price(row))\n",
    "    else:\n",
    "        predicted_prices.append(0)\n",
    "\n",
    "df[\"predicted_price\"] = predicted_prices"
   ]
  },
  {
   "cell_type": "code",
   "execution_count": 2,
   "metadata": {
    "tags": []
   },
   "outputs": [
    {
     "output_type": "stream",
     "name": "stdout",
     "text": [
      "WAND (100-109)% increased Fire Damage 5375.866412810379\nBOW (170-179)% increased Physical Damage 3196.480835895051\nWAND (170-179)% increased Physical Damage 2832.526419106533\nSHIELD (100-109)% increased Spell Damage 2684.7306477864736\nWAND Adds (77-101) to (152-174) Cold Damage (Local) 2496.3366208390808\nRUNE_DAGGER (140-159) to maximum Mana 2423.9173984470517\nTWO_HANDED_SWORD (170-179)% increased Physical Damage 2325.1387574681153\nONE_HANDED_AXE (170-179)% increased Physical Damage 2197.58023111684\nONE_HANDED_MACE Minions deal (50-66)% increased Damage', 'Minions have 5% chance to deal Double Damage 1997.8001101612226\nSCEPTRE Minions deal (50-66)% increased Damage', 'Minions have 5% chance to deal Double Damage 1997.8001101612226\nSCEPTRE (100-109)% increased Fire Damage 1897.9100496833778\nONE_HANDED_SWORD (170-179)% increased Physical Damage 1863.4740914354184\nBASE_STAFF (1-2) to Level of all Spell Skill Gems 1783.7045183127232\nTWO_HANDED_AXE (170-179)% increased Physical Damage 1673.4299131127211\nONE_HANDED_SWORD (131-215) to Accuracy Rating (Local) 1600.230693943001\nSCEPTRE 1 to Level of all Spell Skill Gems 1558.6339574365818\nWAND Adds (70-91) to (138-158) Cold Damage (Local) 1546.600831329269\nBASE_DAGGER (65-84)% increased Physical Damage 1498.3498077720953\nWAND (34-38)% to Chaos Damage over Time Multiplier 1498.3498077720953\nBOOTS Has 1 Abyssal Sockets 1495.1417946681927\nWAND 1 to Level of all Spell Skill Gems 1269.185489064747\nSCEPTRE (140-159) to maximum Mana 1264.4886816084038\nWAND (155-169)% increased Physical Damage', 'Gain (3-5)% of Physical Damage as Extra Chaos Damage 1248.7921193830518\nWARSTAFF Adds (32-43) to (66-78) Physical Damage (Local) 1191.0327432876581\nWAND (155-169)% increased Physical Damage 1159.6119954359333\nWAND (100-109)% increased Spell Damage 1109.6205023255532\nBOW (39-42)% increased Cast Speed 998.8995053829905\nONE_HANDED_SWORD (155-169)% increased Physical Damage 897.8940018042804\nRUNE_DAGGER 1 to Level of all Spell Skill Gems 857.8328717841556\nABYSS_JEWEL Minions deal (15-17) to (22-26) additional Physical Damage 806.2200197935991\nSHIELD (85-99)% increased Cold Damage 799.1193844273486\nWAND Adds (8-22) to (252-286) Lightning Damage (Local) 796.1507538857771\nBASE_STAFF Minions deal (85-94)% increased Damage', 'Minions have 5% chance to deal Double Damage 765.4768866819705\nHELMET -5% increased Mana Reserved 739.4456736068742\nHELMET 2 to Level of Socketed Aura Gems 710.8790151878347\nHELMET 2 to Level of Socketed Aura Gems 710.8790151878347\nTWO_HANDED_MACE (170-179)% increased Physical Damage 699.2293239495276\nRUNE_DAGGER (130-139) to maximum Mana 614.2197956117487\nBASE_JEWEL (6-8)% increased Mine Throwing Speed 607.4278059093355\nBOW Bow Attacks fire an additional Arrow 600.9993005598471\nWARSTAFF Adds (21-27) to (42-48) Physical Damage (Local) 597.595116127943\nWAND Minions deal (63-69)% increased Damage 576.8802195765816\nGLOVES (17-18)% increased Attack Speed 539.0992056633894\nONE_HANDED_MACE (140-159) to maximum Mana 518.6357346239762\nBASE_STAFF 3 to Level of all Chaos Spell Skill Gems 508.4125885315751\nWAND 1 to Level of all Minion Skill Gems 499.44920299389054\nWAND (34-38)% to Cold Damage over Time Multiplier 499.4492029938848\nWARSTAFF (80-130) to Accuracy Rating (Local) 491.4026263566507\nWAND 1 to Level of all Cold Spell Skill Gems 490.6146927200632\nBOW (123-144)% increased Spell Damage 456.44232710698225\nGLOVES (46-48)% to Cold Resistance 445.87264162883633\nBOOTS 35% increased Movement Speed 416.1896860747657\nWAND (85-99)% increased Spell Damage 411.5642360537173\nGLOVES Socketed Gems have 16% more Attack and Cast Speed 406.6611918634914\nWAND (26-28)% increased Cast Speed 399.55914251606396\nWAND (65-74)% increased Spell Damage 394.83809277263873\nBASE_STAFF 3 to Level of all Lightning Spell Skill Gems 381.62040904587207\nBOW (110-119)% increased Critical Strike Chance for Spells 349.4546517808642\nRUNE_DAGGER (120-129) to maximum Mana 320.25943705785704\nBASE_DAGGER (140-159) to maximum Mana 299.66908203824266\nTWO_HANDED_AXE (131-215) to Accuracy Rating (Local) 270.38263894793386\nWAND Adds (82-112) to (167-194) Fire Damage (Local) 233.06144944030737\nTWO_HANDED_SWORD (28-30)% increased Attack Speed (Local) 199.7790215604232\nWAND 100% chance to Trigger a Socketed Spell when you Use a Skill 199.77902156042302\nBASE_STAFF (1-2) to Level of all Lightning Spell Skill Gems 199.77902156042248\nSCEPTRE (29-33)% to Cold Damage over Time Multiplier 199.77902156042143\nBOW (15-20) to Strength 199.77902156042143\nWAND Adds (20-27) to (41-49) Physical Damage (Local) 199.77902156042143\nONE_HANDED_MACE (29-33)% to Cold Damage over Time Multiplier 199.77902156042143\nONE_HANDED_AXE (131-215) to Accuracy Rating (Local) 195.98191375174602\nWAND (140-159) to maximum Mana 191.59731381100025\nWAND Minions deal (50-66)% increased Damage', 'Minions have 5% chance to deal Double Damage 183.46675564538248\nONE_HANDED_MACE (130-139) to maximum Mana 179.7246889804483\nSCEPTRE (130-139) to maximum Mana 179.7246889804483\nWARSTAFF Minions deal (85-94)% increased Damage', 'Minions have 5% chance to deal Double Damage 177.25512738884566\nTWO_HANDED_AXE (155-169)% increased Physical Damage 175.4094443426158\nBASE_STAFF 3 to Level of all Fire Spell Skill Gems 168.79911521372026\nBASE_STAFF 3 to Level of all Physical Spell Skill Gems 154.9625437207003\nWAND Minions have (23-25)% increased Attack Speed', 'Minions have (23-25)% increased Cast Speed 153.26236480120713\nBOW (155-169)% increased Physical Damage 151.26491323053898\nBOW (36-40)% to Chaos Damage over Time Multiplier 149.83399132151075\nGLOVES (46-48)% to Fire Resistance 146.08226038336844\nONE_HANDED_AXE (155-169)% increased Physical Damage 140.00391213057284\nWAND 1 to Level of all Fire Spell Skill Gems 139.52207954988586\nGLOVES (17-20)% to Fire and Lightning Resistances 134.77242032724894\nBOOTS (46-48)% to Fire Resistance 133.24604981039226\nGLOVES (92-100)% increased Energy Shield (Local) 131.3175680189556\nWAND (17-19)% increased Attack Speed (Local) 130.60974037382533\nWAND Minions have (25-28)% increased Attack Speed', 'Minions have (25-28)% increased Cast Speed 126.37019598044164\nBASE_STAFF Adds (32-43) to (66-78) Physical Damage (Local) 124.92912260031507\nTWO_HANDED_SWORD Adds (21-27) to (42-48) Physical Damage (Local) 124.651867133526\nWAND (131-215) to Accuracy Rating (Local) 119.32852690601779\nRING 2 to Level of Socketed Gems 115.49984691350353\nABYSS_JEWEL of the Deadeye S1 [\"(20-30)% increased Accuracy Rating if you haven't Killed Recently\"] 114.44456650192349\nTWO_HANDED_SWORD Adds (32-43) to (66-78) Physical Damage (Local) 111.09895268133947\nBASE_STAFF (105-124)% increased Spell Damage 100.76523803051376\n"
     ]
    }
   ],
   "source": [
    "for x in list(df.sort_values(\"predicted_price\", ascending=False)[[\"path\",\"mod_str\", \"predicted_price\"]].iterrows()):\n",
    "    path, mod_str, value = x[1].values\n",
    "    if value > 100:\n",
    "        print(path.split(\"/\")[-1][:-4], mod_str.split(\"['\")[-1].split(\"']\")[0], value)"
   ]
  },
  {
   "cell_type": "code",
   "execution_count": 30,
   "metadata": {},
   "outputs": [
    {
     "output_type": "execute_result",
     "data": {
      "text/plain": [
       "path                           data/frac_prices/ONE_HANDED_SWORD.csv\n",
       "Unnamed: 0                                                        83\n",
       "mod_json           {\"name\": \"Wicked\", \"tier\": \"P6\", \"magnitudes\":...\n",
       "mod_str             Wicked P6 ['(65-84)% increased Physical Damage']\n",
       "price_00                                                         100\n",
       "                                         ...                        \n",
       "price_96                                                         NaN\n",
       "price_97                                                         NaN\n",
       "price_98                                                         NaN\n",
       "price_99                                                         NaN\n",
       "predicted_price                                              1510.78\n",
       "Name: 2677, Length: 105, dtype: object"
      ]
     },
     "metadata": {},
     "execution_count": 30
    }
   ],
   "source": [
    "df.sort_values(\"predicted_price\", ascending=False).iloc[12]"
   ]
  },
  {
   "cell_type": "code",
   "execution_count": 4,
   "metadata": {},
   "outputs": [
    {
     "output_type": "stream",
     "name": "stdout",
     "text": [
      "path data/frac_prices/ONE_HANDED_SWORD.csv\nUnnamed: 0 7\nmod_json {\"name\": \"of Precision\", \"tier\": \"S4\", \"magnitudes\": [{\"hash\": \"fractured.stat_691932474\", \"min\": 131, \"max\": 215}]}\nmod_str of Precision S4 ['(131-215) to Accuracy Rating (Local)']\nprice_00 100.0\nprice_01 1500.0\nprice_02 1500.0\nprice_03 1900.0\nprice_04 1950.0\nprice_05 2300.0\nprice_06 3200.0\nprice_07 3500.0\nprice_08 4500.0\nprice_09 5000.0\nprice_10 10.0\nprice_11 11.0\nprice_12 50.0\nprice_13 nan\nprice_14 nan\nprice_15 nan\nprice_16 nan\nprice_17 nan\nprice_18 nan\nprice_19 nan\nprice_20 nan\nprice_21 nan\nprice_22 nan\nprice_23 nan\nprice_24 nan\nprice_25 nan\nprice_26 nan\nprice_27 nan\nprice_28 nan\nprice_29 nan\nprice_30 nan\nprice_31 nan\nprice_32 nan\nprice_33 nan\nprice_34 nan\nprice_35 nan\nprice_36 nan\nprice_37 nan\nprice_38 nan\nprice_39 nan\nprice_40 nan\nprice_41 nan\nprice_42 nan\nprice_43 nan\nprice_44 nan\nprice_45 nan\nprice_46 nan\nprice_47 nan\nprice_48 nan\nprice_49 nan\nprice_50 nan\nprice_51 nan\nprice_52 nan\nprice_53 nan\nprice_54 nan\nprice_55 nan\nprice_56 nan\nprice_57 nan\nprice_58 nan\nprice_59 nan\nprice_60 nan\nprice_61 nan\nprice_62 nan\nprice_63 nan\nprice_64 nan\nprice_65 nan\nprice_66 nan\nprice_67 nan\nprice_68 nan\nprice_69 nan\nprice_70 nan\nprice_71 nan\nprice_72 nan\nprice_73 nan\nprice_74 nan\nprice_75 nan\nprice_76 nan\nprice_77 nan\nprice_78 nan\nprice_79 nan\nprice_80 nan\nprice_81 nan\nprice_82 nan\nprice_83 nan\nprice_84 nan\nprice_85 nan\nprice_86 nan\nprice_87 nan\nprice_88 nan\nprice_89 nan\nprice_90 nan\nprice_91 nan\nprice_92 nan\nprice_93 nan\nprice_94 nan\nprice_95 nan\nprice_96 nan\nprice_97 nan\nprice_98 nan\nprice_99 nan\npredicted_price 1600.230693943001\n"
     ]
    }
   ],
   "source": [
    "for k,v in df.sort_values(\"predicted_price\", ascending=False).iloc[14].items():\n",
    "    print(k, v)"
   ]
  },
  {
   "cell_type": "code",
   "execution_count": 25,
   "metadata": {},
   "outputs": [
    {
     "output_type": "execute_result",
     "data": {
      "text/plain": [
       "                          path Unnamed: 0  \\\n",
       "1598  data/frac_prices/BOW.csv         53   \n",
       "\n",
       "                                               mod_json  \\\n",
       "1598  {\"name\": \"Wicked\", \"tier\": \"P6\", \"magnitudes\":...   \n",
       "\n",
       "                                               mod_str  price_00  price_01  \\\n",
       "1598  Wicked P6 ['(65-84)% increased Physical Damage']       3.0       7.0   \n",
       "\n",
       "      price_02  price_03  price_04  price_05  ...  price_91  price_92  \\\n",
       "1598      10.0      20.0      20.0    1000.0  ...       NaN       NaN   \n",
       "\n",
       "      price_93  price_94  price_95  price_96  price_97  price_98  price_99  \\\n",
       "1598       NaN       NaN       NaN       NaN       NaN       NaN       NaN   \n",
       "\n",
       "      predicted_price  \n",
       "1598      2055.026951  \n",
       "\n",
       "[1 rows x 105 columns]"
      ],
      "text/html": "<div>\n<style scoped>\n    .dataframe tbody tr th:only-of-type {\n        vertical-align: middle;\n    }\n\n    .dataframe tbody tr th {\n        vertical-align: top;\n    }\n\n    .dataframe thead th {\n        text-align: right;\n    }\n</style>\n<table border=\"1\" class=\"dataframe\">\n  <thead>\n    <tr style=\"text-align: right;\">\n      <th></th>\n      <th>path</th>\n      <th>Unnamed: 0</th>\n      <th>mod_json</th>\n      <th>mod_str</th>\n      <th>price_00</th>\n      <th>price_01</th>\n      <th>price_02</th>\n      <th>price_03</th>\n      <th>price_04</th>\n      <th>price_05</th>\n      <th>...</th>\n      <th>price_91</th>\n      <th>price_92</th>\n      <th>price_93</th>\n      <th>price_94</th>\n      <th>price_95</th>\n      <th>price_96</th>\n      <th>price_97</th>\n      <th>price_98</th>\n      <th>price_99</th>\n      <th>predicted_price</th>\n    </tr>\n  </thead>\n  <tbody>\n    <tr>\n      <th>1598</th>\n      <td>data/frac_prices/BOW.csv</td>\n      <td>53</td>\n      <td>{\"name\": \"Wicked\", \"tier\": \"P6\", \"magnitudes\":...</td>\n      <td>Wicked P6 ['(65-84)% increased Physical Damage']</td>\n      <td>3.0</td>\n      <td>7.0</td>\n      <td>10.0</td>\n      <td>20.0</td>\n      <td>20.0</td>\n      <td>1000.0</td>\n      <td>...</td>\n      <td>NaN</td>\n      <td>NaN</td>\n      <td>NaN</td>\n      <td>NaN</td>\n      <td>NaN</td>\n      <td>NaN</td>\n      <td>NaN</td>\n      <td>NaN</td>\n      <td>NaN</td>\n      <td>2055.026951</td>\n    </tr>\n  </tbody>\n</table>\n<p>1 rows × 105 columns</p>\n</div>"
     },
     "metadata": {},
     "execution_count": 25
    }
   ],
   "source": [
    "df.query(\"`path` == 'data/frac_prices/BOW.csv' and `Unnamed: 0` == 53\")"
   ]
  },
  {
   "cell_type": "code",
   "execution_count": null,
   "metadata": {},
   "outputs": [],
   "source": []
  }
 ]
}